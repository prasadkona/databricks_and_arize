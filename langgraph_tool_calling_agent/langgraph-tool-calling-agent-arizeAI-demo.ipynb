{
 "cells": [
  {
   "cell_type": "markdown",
   "metadata": {
    "application/vnd.databricks.v1+cell": {
     "cellMetadata": {
      "byteLimit": 2048000,
      "rowLimit": 10000
     },
     "inputWidgets": {},
     "nuid": "c17a6a07-18e0-492a-8fe1-f093bc745347",
     "showTitle": false,
     "tableResultSettingsMap": {},
     "title": ""
    }
   },
   "source": [
    "# Mosaic AI Agent Framework: Author and deploy a tool-calling LangGraph agent\n",
    "\n",
    "This notebook demonstrates how to author a LangGraph agent that's compatible with Mosaic AI Agent Framework features. In this notebook you learn to:\n",
    "- Author a tool-calling LangGraph agent wrapped with `ChatAgent`\n",
    "- Manually test the agent's output\n",
    "- Evaluate the agent using Mosaic AI Agent Evaluation\n",
    "- Log and deploy the agent\n",
    "\n",
    "To learn more about authoring an agent using Mosaic AI Agent Framework, see Databricks documentation ([AWS](https://docs.databricks.com/aws/generative-ai/agent-framework/author-agent) | [Azure](https://learn.microsoft.com/azure/databricks/generative-ai/agent-framework/create-chat-model)).\n",
    "\n",
    "## Prerequisites\n",
    "\n",
    "- Address all `TODO`s in this notebook."
   ]
  },
  {
   "cell_type": "code",
   "execution_count": 0,
   "metadata": {
    "application/vnd.databricks.v1+cell": {
     "cellMetadata": {
      "byteLimit": 2048000,
      "rowLimit": 10000
     },
     "inputWidgets": {},
     "nuid": "db253b14-0030-46bf-b7ca-626678ec5ccd",
     "showTitle": false,
     "tableResultSettingsMap": {},
     "title": ""
    }
   },
   "outputs": [
    {
     "output_type": "stream",
     "name": "stdout",
     "output_type": "stream",
     "text": [
      "\u001B[43mNote: you may need to restart the kernel using %restart_python or dbutils.library.restartPython() to use updated packages.\u001B[0m\n"
     ]
    }
   ],
   "source": [
    "%pip install -U -qqqq mlflow databricks-langchain databricks-agents uv langgraph==0.3.4  arize-otel openinference.instrumentation.langchain\n",
    "dbutils.library.restartPython()"
   ]
  },
  {
   "cell_type": "markdown",
   "metadata": {
    "application/vnd.databricks.v1+cell": {
     "cellMetadata": {
      "byteLimit": 2048000,
      "rowLimit": 10000
     },
     "inputWidgets": {},
     "nuid": "4b96664d-0f7f-473e-a621-f6389c3b71aa",
     "showTitle": false,
     "tableResultSettingsMap": {},
     "title": ""
    }
   },
   "source": [
    "\n",
    "## Define the agent in code\n",
    "Define the agent code in a single cell below. This lets you easily write the agent code to a local Python file, using the `%%writefile` magic command, for subsequent logging and deployment.\n",
    "\n",
    "#### Agent tools\n",
    "This agent code adds the built-in Unity Catalog function `system.ai.python_exec` to the agent. The agent code also includes commented-out sample code for adding a vector search index to perform unstructured data retrieval.\n",
    "\n",
    "For more examples of tools to add to your agent, see Databricks documentation ([AWS](https://docs.databricks.com/aws/generative-ai/agent-framework/agent-tool) | [Azure](https://learn.microsoft.com/en-us/azure/databricks/generative-ai/agent-framework/agent-tool))\n",
    "\n",
    "#### Wrap the LangGraph agent using the `ChatAgent` interface\n",
    "\n",
    "For compatibility with Databricks AI features, the `LangGraphChatAgent` class implements the `ChatAgent` interface to wrap the LangGraph agent. This example uses the provided convenience APIs [`ChatAgentState`](https://mlflow.org/docs/latest/python_api/mlflow.langchain.html#mlflow.langchain.chat_agent_langgraph.ChatAgentState) and [`ChatAgentToolNode`](https://mlflow.org/docs/latest/python_api/mlflow.langchain.html#mlflow.langchain.chat_agent_langgraph.ChatAgentToolNode) for ease of use.\n",
    "\n",
    "Databricks recommends using `ChatAgent` as it simplifies authoring multi-turn conversational agents using an open source standard. See MLflow's [ChatAgent documentation](https://mlflow.org/docs/latest/python_api/mlflow.pyfunc.html#mlflow.pyfunc.ChatAgent).\n",
    "\n"
   ]
  },
  {
   "cell_type": "code",
   "execution_count": 0,
   "metadata": {
    "application/vnd.databricks.v1+cell": {
     "cellMetadata": {
      "byteLimit": 2048000,
      "rowLimit": 10000
     },
     "inputWidgets": {},
     "nuid": "d6993515-e1ef-448d-a057-af1e1bda216a",
     "showTitle": false,
     "tableResultSettingsMap": {},
     "title": ""
    }
   },
   "outputs": [],
   "source": [
    "# Reading the secure keys from secrets\n",
    "ARIZE_API_KEY = dbutils.secrets.get(scope=\"prasad_kona\", key=\"ARIZE_API_KEY\")\n",
    "ARIZE_SPACE_ID = dbutils.secrets.get(scope=\"prasad_kona\", key=\"ARIZE_SPACE_ID\")\n",
    "\n",
    "# setting as environment variables to be used by the chain\n",
    "import os\n",
    "os.environ[\"ARIZE_API_KEY\"] = ARIZE_API_KEY\n",
    "os.environ[\"ARIZE_SPACE_ID\"] = ARIZE_SPACE_ID\n"
   ]
  },
  {
   "cell_type": "code",
   "execution_count": 0,
   "metadata": {
    "application/vnd.databricks.v1+cell": {
     "cellMetadata": {
      "byteLimit": 2048000,
      "rowLimit": 10000
     },
     "inputWidgets": {},
     "nuid": "8f83ce2c-dfcc-49d6-b73c-eed0b62f3805",
     "showTitle": false,
     "tableResultSettingsMap": {},
     "title": ""
    }
   },
   "outputs": [
    {
     "output_type": "stream",
     "name": "stdout",
     "output_type": "stream",
     "text": [
      "Overwriting agent.py\n"
     ]
    }
   ],
   "source": [
    "%%writefile agent.py\n",
    "from typing import Any, Generator, Optional, Sequence, Union\n",
    "\n",
    "import mlflow\n",
    "from databricks_langchain import (\n",
    "    ChatDatabricks,\n",
    "    UCFunctionToolkit,\n",
    "    VectorSearchRetrieverTool,\n",
    ")\n",
    "from langchain_core.language_models import LanguageModelLike\n",
    "from langchain_core.runnables import RunnableConfig, RunnableLambda\n",
    "from langchain_core.tools import BaseTool\n",
    "from langgraph.graph import END, StateGraph\n",
    "from langgraph.graph.graph import CompiledGraph\n",
    "from langgraph.graph.state import CompiledStateGraph\n",
    "from langgraph.prebuilt.tool_node import ToolNode\n",
    "from mlflow.langchain.chat_agent_langgraph import ChatAgentState, ChatAgentToolNode\n",
    "from mlflow.pyfunc import ChatAgent\n",
    "from mlflow.types.agent import (\n",
    "    ChatAgentChunk,\n",
    "    ChatAgentMessage,\n",
    "    ChatAgentResponse,\n",
    "    ChatContext,\n",
    ")\n",
    "import os\n",
    "#mlflow.langchain.autolog()\n",
    "\n",
    "import logging\n",
    "logging.getLogger(\"openinference.instrumentation.langchain._tracer\").setLevel(logging.CRITICAL)\n",
    "\n",
    "############################################\n",
    "# Arize Tracing Setup\n",
    "############################################\n",
    "#register tracer provider to send traces to Arize\n",
    "from arize.otel import register\n",
    "\n",
    "model_config = mlflow.models.ModelConfig(development_config=\"chain_config.yaml\")\n",
    "\n",
    "tracer_provider = register(\n",
    "    space_id = os.getenv(\"ARIZE_SPACE_ID\"),\n",
    "    api_key = os.getenv(\"ARIZE_API_KEY\"),\n",
    "    project_name = model_config.get(\"ARIZE_PROJECT_NAME\"),\n",
    "    #log_to_console=True\n",
    ")\n",
    "# 1 line auto instrumentation\n",
    "from openinference.instrumentation.langchain import LangChainInstrumentor\n",
    "LangChainInstrumentor().instrument(tracer_provider=tracer_provider)\n",
    "\n",
    "\n",
    "############################################\n",
    "# Define your LLM endpoint and system prompt\n",
    "############################################\n",
    "# TODO: Replace with your model serving endpoint\n",
    "LLM_ENDPOINT_NAME = model_config.get(\"LLM_ENDPOINT_NAME\") \n",
    "llm = ChatDatabricks(endpoint=LLM_ENDPOINT_NAME)\n",
    "\n",
    "# TODO: Update with your system prompt\n",
    "system_prompt = \"\"\n",
    "\n",
    "###############################################################################\n",
    "## Define tools for your agent, enabling it to retrieve data or take actions\n",
    "## beyond text generation\n",
    "## To create and see usage examples of more tools, see\n",
    "## https://docs.databricks.com/en/generative-ai/agent-framework/agent-tool.html\n",
    "###############################################################################\n",
    "tools = []\n",
    "\n",
    "# You can use UDFs in Unity Catalog as agent tools\n",
    "# Below, we add the `system.ai.python_exec` UDF, which provides\n",
    "# a python code interpreter tool to our agent\n",
    "# You can also add local LangChain python tools. See https://python.langchain.com/docs/concepts/tools\n",
    "\n",
    "# TODO: Add additional tools\n",
    "uc_tool_names = [\"system.ai.python_exec\"]\n",
    "uc_toolkit = UCFunctionToolkit(function_names=uc_tool_names)\n",
    "tools.extend(uc_toolkit.tools)\n",
    "\n",
    "# Use Databricks vector search indexes as tools\n",
    "# See https://docs.databricks.com/en/generative-ai/agent-framework/unstructured-retrieval-tools.html\n",
    "# for details\n",
    "\n",
    "# TODO: Add vector search indexes\n",
    "# vector_search_tools = [\n",
    "#         VectorSearchRetrieverTool(\n",
    "#         index_name=\"\",\n",
    "#         # filters=\"...\"\n",
    "#     )\n",
    "# ]\n",
    "# tools.extend(vector_search_tools)\n",
    "\n",
    "#####################\n",
    "## Define agent logic\n",
    "#####################\n",
    "\n",
    "\n",
    "def create_tool_calling_agent(\n",
    "    model: LanguageModelLike,\n",
    "    tools: Union[ToolNode, Sequence[BaseTool]],\n",
    "    system_prompt: Optional[str] = None,\n",
    ") -> CompiledGraph:\n",
    "    model = model.bind_tools(tools)\n",
    "\n",
    "    # Define the function that determines which node to go to\n",
    "    def should_continue(state: ChatAgentState):\n",
    "        messages = state[\"messages\"]\n",
    "        last_message = messages[-1]\n",
    "        # If there are function calls, continue. else, end\n",
    "        if last_message.get(\"tool_calls\"):\n",
    "            return \"continue\"\n",
    "        else:\n",
    "            return \"end\"\n",
    "\n",
    "    if system_prompt:\n",
    "        preprocessor = RunnableLambda(\n",
    "            lambda state: [{\"role\": \"system\", \"content\": system_prompt}]\n",
    "            + state[\"messages\"]\n",
    "        )\n",
    "    else:\n",
    "        preprocessor = RunnableLambda(lambda state: state[\"messages\"])\n",
    "    model_runnable = preprocessor | model\n",
    "\n",
    "    def call_model(\n",
    "        state: ChatAgentState,\n",
    "        config: RunnableConfig,\n",
    "    ):\n",
    "        response = model_runnable.invoke(state, config)\n",
    "\n",
    "        return {\"messages\": [response]}\n",
    "\n",
    "    workflow = StateGraph(ChatAgentState)\n",
    "\n",
    "    workflow.add_node(\"agent\", RunnableLambda(call_model))\n",
    "    workflow.add_node(\"tools\", ChatAgentToolNode(tools))\n",
    "\n",
    "    workflow.set_entry_point(\"agent\")\n",
    "    workflow.add_conditional_edges(\n",
    "        \"agent\",\n",
    "        should_continue,\n",
    "        {\n",
    "            \"continue\": \"tools\",\n",
    "            \"end\": END,\n",
    "        },\n",
    "    )\n",
    "    workflow.add_edge(\"tools\", \"agent\")\n",
    "\n",
    "    return workflow.compile()\n",
    "\n",
    "\n",
    "class LangGraphChatAgent(ChatAgent):\n",
    "    def __init__(self, agent: CompiledStateGraph):\n",
    "        self.agent = agent\n",
    "\n",
    "    def predict(\n",
    "        self,\n",
    "        messages: list[ChatAgentMessage],\n",
    "        context: Optional[ChatContext] = None,\n",
    "        custom_inputs: Optional[dict[str, Any]] = None,\n",
    "    ) -> ChatAgentResponse:\n",
    "        request = {\"messages\": self._convert_messages_to_dict(messages)}\n",
    "\n",
    "        messages = []\n",
    "        for event in self.agent.stream(request, stream_mode=\"updates\"):\n",
    "            for node_data in event.values():\n",
    "                messages.extend(\n",
    "                    ChatAgentMessage(**msg) for msg in node_data.get(\"messages\", [])\n",
    "                )\n",
    "        return ChatAgentResponse(messages=messages)\n",
    "\n",
    "    def predict_stream(\n",
    "        self,\n",
    "        messages: list[ChatAgentMessage],\n",
    "        context: Optional[ChatContext] = None,\n",
    "        custom_inputs: Optional[dict[str, Any]] = None,\n",
    "    ) -> Generator[ChatAgentChunk, None, None]:\n",
    "        request = {\"messages\": self._convert_messages_to_dict(messages)}\n",
    "        for event in self.agent.stream(request, stream_mode=\"updates\"):\n",
    "            for node_data in event.values():\n",
    "                yield from (\n",
    "                    ChatAgentChunk(**{\"delta\": msg}) for msg in node_data[\"messages\"]\n",
    "                )\n",
    "\n",
    "\n",
    "# Create the agent object, and specify it as the agent object to use when\n",
    "# loading the agent back for inference via mlflow.models.set_model()\n",
    "mlflow.langchain.autolog()\n",
    "agent = create_tool_calling_agent(llm, tools, system_prompt)\n",
    "AGENT = LangGraphChatAgent(agent)\n",
    "mlflow.models.set_model(AGENT)"
   ]
  },
  {
   "cell_type": "markdown",
   "metadata": {
    "application/vnd.databricks.v1+cell": {
     "cellMetadata": {
      "byteLimit": 2048000,
      "rowLimit": 10000
     },
     "inputWidgets": {},
     "nuid": "745dd0f1-a354-4488-8d51-16382a351468",
     "showTitle": false,
     "tableResultSettingsMap": {},
     "title": ""
    }
   },
   "source": [
    "## Test the agent\n",
    "\n",
    "Interact with the agent to test its output and tool-calling abilities. Since this notebook called `mlflow.langchain.autolog()`, you can view the trace for each step the agent takes.\n",
    "\n",
    "Replace this placeholder input with an appropriate domain-specific example for your agent."
   ]
  },
  {
   "cell_type": "code",
   "execution_count": 0,
   "metadata": {
    "application/vnd.databricks.v1+cell": {
     "cellMetadata": {
      "byteLimit": 2048000,
      "rowLimit": 10000
     },
     "inputWidgets": {},
     "nuid": "be85738d-a035-463e-9bea-6897705cb794",
     "showTitle": false,
     "tableResultSettingsMap": {},
     "title": ""
    }
   },
   "outputs": [],
   "source": [
    "dbutils.library.restartPython()"
   ]
  },
  {
   "cell_type": "code",
   "execution_count": 0,
   "metadata": {
    "application/vnd.databricks.v1+cell": {
     "cellMetadata": {
      "byteLimit": 2048000,
      "rowLimit": 10000
     },
     "inputWidgets": {},
     "nuid": "7d87ad28-305e-4f08-89a8-dcf8123cf65e",
     "showTitle": false,
     "tableResultSettingsMap": {},
     "title": ""
    }
   },
   "outputs": [],
   "source": [
    "# Reading the secure keys from secrets\n",
    "ARIZE_API_KEY = dbutils.secrets.get(scope=\"prasad_kona\", key=\"ARIZE_API_KEY\")\n",
    "ARIZE_SPACE_ID = dbutils.secrets.get(scope=\"prasad_kona\", key=\"ARIZE_SPACE_ID\")\n",
    "\n",
    "# setting as environment variables to be used by the chain\n",
    "import os\n",
    "os.environ[\"ARIZE_API_KEY\"] = ARIZE_API_KEY\n",
    "os.environ[\"ARIZE_SPACE_ID\"] = ARIZE_SPACE_ID\n"
   ]
  },
  {
   "cell_type": "code",
   "execution_count": 0,
   "metadata": {
    "application/vnd.databricks.v1+cell": {
     "cellMetadata": {
      "byteLimit": 2048000,
      "rowLimit": 10000
     },
     "inputWidgets": {},
     "nuid": "04671534-0ee9-46f0-9cfc-4ea71c0d01a8",
     "showTitle": false,
     "tableResultSettingsMap": {},
     "title": ""
    }
   },
   "outputs": [
    {
     "output_type": "stream",
     "name": "stdout",
     "output_type": "stream",
     "text": [
      "🔭 OpenTelemetry Tracing Details 🔭\n|  Arize Project: [REDACTED]\n|  Span Processor: BatchSpanProcessor\n|  Collector Endpoint: otlp.arize.com\n|  Transport: gRPC\n|  Transport Headers: {'authorization': '****', 'api_key': '****', 'arize-space-id': '****', 'space_id': '****', 'arize-interface': '****', 'user-agent': '****'}\n|  \n|  Using a default SpanProcessor. `add_span_processor` will overwrite this default.\n|  \n|  `register` has set this TracerProvider as the global OpenTelemetry default.\n|  To disable this behavior, call `register` with `set_global_tracer_provider=False`.\n\n"
     ]
    },
    {
     "output_type": "stream",
     "name": "stderr",
     "output_type": "stream",
     "text": [
      "/local_disk0/.ephemeral_nfs/envs/pythonEnv-76f81627-85a4-46c5-b7a9-35eb9f206793/lib/python3.10/site-packages/databricks/connect/session.py:454: UserWarning: Ignoring the default notebook Spark session and creating a new Spark Connect session. To use the default notebook Spark session, use DatabricksSession.builder.getOrCreate() with no additional parameters.\n  warnings.warn(new_notebook_session_msg)\n"
     ]
    },
    {
     "output_type": "execute_result",
     "data": {
      "text/plain": [
       "ChatAgentResponse(messages=[ChatAgentMessage(role='assistant', content='A lakehouse is a data management architecture that combines the benefits of data warehouses and data lakes, allowing for the storage and analysis of both structured and unstructured data in a single, unified platform.', name=None, id='run--a310bf48-291f-44b0-b2a9-97aeba33a9ad-0', tool_calls=None, tool_call_id=None, attachments=None)], finish_reason=None, custom_outputs=None, usage=None)"
      ]
     },
     "execution_count": 2,
     "metadata": {},
     "output_type": "execute_result"
    },
    {
     "output_type": "display_data",
     "data": {
      "application/databricks.mlflow.trace": "\"tr-8e016a294d1f4492bff81a09303c3077\"",
      "text/plain": [
       "Trace(request_id=tr-8e016a294d1f4492bff81a09303c3077)"
      ]
     },
     "metadata": {},
     "output_type": "display_data"
    }
   ],
   "source": [
    "from agent import AGENT\n",
    "\n",
    "AGENT.predict({\"messages\": [{\"role\": \"user\", \"content\": \"What is a lakehouse? Respond in one sentence !\"}]})"
   ]
  },
  {
   "cell_type": "code",
   "execution_count": 0,
   "metadata": {
    "application/vnd.databricks.v1+cell": {
     "cellMetadata": {
      "byteLimit": 2048000,
      "rowLimit": 10000
     },
     "inputWidgets": {},
     "nuid": "5f6535b0-0fea-4700-9be0-730f8f0e0972",
     "showTitle": false,
     "tableResultSettingsMap": {},
     "title": ""
    }
   },
   "outputs": [
    {
     "output_type": "stream",
     "name": "stdout",
     "output_type": "stream",
     "text": [
      "delta=ChatAgentMessage(role='assistant', content='', name=None, id='run--20e53362-4a4f-4234-829d-45113997682b-0', tool_calls=[ToolCall(id='call_d3861cd6-1897-4c13-aefb-02603c60a143', type='function', function=Function(name='system__ai__python_exec', arguments='{\"code\": \"print(5+5)\"}'))], tool_call_id=None, attachments=None) finish_reason=None custom_outputs=None usage=None -----------\n\ndelta=ChatAgentMessage(role='tool', content='{\"format\": \"SCALAR\", \"value\": \"10\\\\n\"}', name='system__ai__python_exec', id='2bfdc766-a264-4708-a905-32c137221a90', tool_calls=None, tool_call_id='call_d3861cd6-1897-4c13-aefb-02603c60a143', attachments=None) finish_reason=None custom_outputs=None usage=None -----------\n\ndelta=ChatAgentMessage(role='assistant', content='The result of 5+5 in Python is 10.', name=None, id='run--6bd851ae-09e3-495b-9192-5e1fafb5bb2a-0', tool_calls=None, tool_call_id=None, attachments=None) finish_reason=None custom_outputs=None usage=None -----------\n\n"
     ]
    },
    {
     "output_type": "display_data",
     "data": {
      "application/databricks.mlflow.trace": "\"tr-ab8a31b0b3cc44f0bf43317783108d49\"",
      "text/plain": [
       "Trace(request_id=tr-ab8a31b0b3cc44f0bf43317783108d49)"
      ]
     },
     "metadata": {},
     "output_type": "display_data"
    }
   ],
   "source": [
    "for event in AGENT.predict_stream(\n",
    "    {\"messages\": [{\"role\": \"user\", \"content\": \"What is 5+5 in python\"}]}\n",
    "):\n",
    "    print(event, \"-----------\\n\")"
   ]
  },
  {
   "cell_type": "markdown",
   "metadata": {
    "application/vnd.databricks.v1+cell": {
     "cellMetadata": {
      "byteLimit": 2048000,
      "rowLimit": 10000
     },
     "inputWidgets": {},
     "nuid": "7237da3f-c842-48c0-a533-d093af0c12c6",
     "showTitle": false,
     "tableResultSettingsMap": {},
     "title": ""
    }
   },
   "source": [
    "## Log the agent as an MLflow model\n",
    "\n",
    "Log the agent as code from the `agent.py` file. See [MLflow - Models from Code](https://mlflow.org/docs/latest/models.html#models-from-code).\n",
    "\n",
    "### Enable automatic authentication for Databricks resources\n",
    "For the most common Databricks resource types, Databricks supports and recommends declaring resource dependencies for the agent upfront during logging. This enables automatic authentication passthrough when you deploy the agent. With automatic authentication passthrough, Databricks automatically provisions, rotates, and manages short-lived credentials to securely access these resource dependencies from within the agent endpoint.\n",
    "\n",
    "To enable automatic authentication, specify the dependent Databricks resources when calling `mlflow.pyfunc.log_model().`\n",
    "\n",
    "  - **TODO**: If your Unity Catalog tool queries a [vector search index](docs link) or leverages [external functions](docs link), you need to include the dependent vector search index and UC connection objects, respectively, as resources. See docs ([AWS](https://docs.databricks.com/generative-ai/agent-framework/log-agent.html#specify-resources-for-automatic-authentication-passthrough) | [Azure](https://learn.microsoft.com/azure/databricks/generative-ai/agent-framework/log-agent#resources)).\n",
    "\n"
   ]
  },
  {
   "cell_type": "code",
   "execution_count": 0,
   "metadata": {
    "application/vnd.databricks.v1+cell": {
     "cellMetadata": {
      "byteLimit": 2048000,
      "rowLimit": 10000
     },
     "inputWidgets": {},
     "nuid": "ad657dab-6dd9-4dc0-9465-e47aeed1c895",
     "showTitle": false,
     "tableResultSettingsMap": {},
     "title": ""
    }
   },
   "outputs": [
    {
     "output_type": "stream",
     "name": "stderr",
     "output_type": "stream",
     "text": [
      "WARNING:opentelemetry.trace:Overriding of current TracerProvider is not allowed\nWARNING:opentelemetry.instrumentation.instrumentor:Attempting to instrument while already instrumented\n"
     ]
    },
    {
     "output_type": "stream",
     "name": "stdout",
     "output_type": "stream",
     "text": [
      "🔭 OpenTelemetry Tracing Details 🔭\n|  Arize Project: [REDACTED]\n|  Span Processor: BatchSpanProcessor\n|  Collector Endpoint: otlp.arize.com\n|  Transport: gRPC\n|  Transport Headers: {'authorization': '****', 'api_key': '****', 'arize-space-id': '****', 'space_id': '****', 'arize-interface': '****', 'user-agent': '****'}\n|  \n|  Using a default SpanProcessor. `add_span_processor` will overwrite this default.\n|  \n|  `register` has set this TracerProvider as the global OpenTelemetry default.\n|  To disable this behavior, call `register` with `set_global_tracer_provider=False`.\n\n"
     ]
    },
    {
     "output_type": "stream",
     "name": "stderr",
     "output_type": "stream",
     "text": [
      "2025/05/23 23:25:58 INFO mlflow.pyfunc: Predicting on input example to validate output\nWARNING:opentelemetry.exporter.otlp.proto.grpc.exporter:Transient error StatusCode.UNAVAILABLE encountered while exporting traces to otlp.arize.com, retrying in 1s.\nWARNING:opentelemetry.trace:Overriding of current TracerProvider is not allowed\nWARNING:opentelemetry.instrumentation.instrumentor:Attempting to instrument while already instrumented\n"
     ]
    },
    {
     "output_type": "stream",
     "name": "stdout",
     "output_type": "stream",
     "text": [
      "🔭 OpenTelemetry Tracing Details 🔭\n|  Arize Project: [REDACTED]\n|  Span Processor: BatchSpanProcessor\n|  Collector Endpoint: otlp.arize.com\n|  Transport: gRPC\n|  Transport Headers: {'authorization': '****', 'api_key': '****', 'arize-space-id': '****', 'space_id': '****', 'arize-interface': '****', 'user-agent': '****'}\n|  \n|  Using a default SpanProcessor. `add_span_processor` will overwrite this default.\n|  \n|  `register` has set this TracerProvider as the global OpenTelemetry default.\n|  To disable this behavior, call `register` with `set_global_tracer_provider=False`.\n\n"
     ]
    },
    {
     "output_type": "stream",
     "name": "stderr",
     "output_type": "stream",
     "text": [
      "2025/05/23 23:26:14 INFO mlflow.models.model: Found the following environment variables used during model inference: [ARIZE_API_KEY]. Please check if you need to set them when deploying the model. To disable this message, set environment variable `MLFLOW_RECORD_ENV_VARS_IN_MODEL_LOGGING` to `false`.\n"
     ]
    },
    {
     "output_type": "display_data",
     "data": {
      "application/vnd.jupyter.widget-view+json": {
       "model_id": "ef9ad4be40db4ceab1d4508355669ebf",
       "version_major": 2,
       "version_minor": 0
      },
      "text/plain": [
       "Uploading artifacts:   0%|          | 0/13 [00:00<?, ?it/s]"
      ]
     },
     "metadata": {},
     "output_type": "display_data"
    }
   ],
   "source": [
    "import mlflow\n",
    "from agent import tools, LLM_ENDPOINT_NAME\n",
    "from databricks_langchain import VectorSearchRetrieverTool\n",
    "from mlflow.models.resources import DatabricksFunction, DatabricksServingEndpoint\n",
    "from unitycatalog.ai.langchain.toolkit import UnityCatalogTool\n",
    "from pkg_resources import get_distribution\n",
    "\n",
    "model_config = mlflow.models.ModelConfig(development_config=\"chain_config.yaml\")\n",
    "\n",
    "resources = [DatabricksServingEndpoint(endpoint_name=model_config.get(\"LLM_ENDPOINT_NAME\"))]\n",
    "for tool in tools:\n",
    "    if isinstance(tool, VectorSearchRetrieverTool):\n",
    "        resources.extend(tool.resources)\n",
    "    elif isinstance(tool, UnityCatalogTool):\n",
    "        resources.append(DatabricksFunction(function_name=tool.uc_function_name))\n",
    "\n",
    "\n",
    "with mlflow.start_run():\n",
    "    logged_agent_info = mlflow.pyfunc.log_model(\n",
    "        artifact_path=\"agent\",\n",
    "        python_model=\"agent.py\",\n",
    "        model_config=\"chain_config.yaml\",\n",
    "        extra_pip_requirements= [\n",
    "            f\"databricks-connect=={get_distribution('databricks-connect').version}\",\n",
    "            \"arize-otel\", \"openinference.instrumentation.langchain\"\n",
    "            ],\n",
    "        resources=resources,\n",
    "    )"
   ]
  },
  {
   "cell_type": "markdown",
   "metadata": {
    "application/vnd.databricks.v1+cell": {
     "cellMetadata": {
      "byteLimit": 2048000,
      "rowLimit": 10000
     },
     "inputWidgets": {},
     "nuid": "879508e6-953d-4b8c-922c-83917c55b383",
     "showTitle": false,
     "tableResultSettingsMap": {},
     "title": ""
    }
   },
   "source": [
    "## Evaluate the agent with Agent Evaluation\n",
    "\n",
    "Use Mosaic AI Agent Evaluation to evalaute the agent's responses based on expected responses and other evaluation criteria. Use the evaluation criteria you specify to guide iterations, using MLflow to track the computed quality metrics.\n",
    "See Databricks documentation ([AWS]((https://docs.databricks.com/aws/generative-ai/agent-evaluation) | [Azure](https://learn.microsoft.com/azure/databricks/generative-ai/agent-evaluation/)).\n",
    "\n",
    "\n",
    "To evaluate your tool calls, add custom metrics. See Databricks documentation ([AWS](https://docs.databricks.com/en/generative-ai/agent-evaluation/custom-metrics.html#evaluating-tool-calls) | [Azure](https://learn.microsoft.com/en-us/azure/databricks/generative-ai/agent-evaluation/custom-metrics#evaluating-tool-calls))."
   ]
  },
  {
   "cell_type": "code",
   "execution_count": 0,
   "metadata": {
    "application/vnd.databricks.v1+cell": {
     "cellMetadata": {
      "byteLimit": 2048000,
      "rowLimit": 10000
     },
     "inputWidgets": {},
     "nuid": "3b01aaf6-93d3-4323-a1f6-0fe1808b2b01",
     "showTitle": false,
     "tableResultSettingsMap": {},
     "title": ""
    }
   },
   "outputs": [
    {
     "output_type": "display_data",
     "data": {
      "text/html": [
       "<style scoped>\n",
       "  .table-result-container {\n",
       "    max-height: 300px;\n",
       "    overflow: auto;\n",
       "  }\n",
       "  table, th, td {\n",
       "    border: 1px solid black;\n",
       "    border-collapse: collapse;\n",
       "  }\n",
       "  th, td {\n",
       "    padding: 5px;\n",
       "  }\n",
       "  th {\n",
       "    text-align: left;\n",
       "  }\n",
       "</style><div class='table-result-container'><table class='table-result'><thead style='background-color: white'><tr><th>request</th><th>expected_response</th></tr></thead><tbody><tr><td>List(List(List(What is an 4*3 in python?, user)))</td><td>null</td></tr></tbody></table></div>"
      ]
     },
     "metadata": {
      "application/vnd.databricks.v1+output": {
       "addedWidgets": {},
       "aggData": [],
       "aggError": "",
       "aggOverflow": false,
       "aggSchema": [],
       "aggSeriesLimitReached": false,
       "aggType": "",
       "arguments": {},
       "columnCustomDisplayInfos": {},
       "data": [
        [
         [
          [
           [
            "What is an 4*3 in python?",
            "user"
           ]
          ]
         ],
         null
        ]
       ],
       "datasetInfos": [],
       "dbfsResultPath": null,
       "isJsonSchema": true,
       "metadata": {},
       "overflow": false,
       "plotOptions": {
        "customPlotOptions": {},
        "displayType": "table",
        "pivotAggregation": null,
        "pivotColumns": null,
        "xColumns": null,
        "yColumns": null
       },
       "removedWidgets": [],
       "schema": [
        {
         "metadata": "{}",
         "name": "request",
         "type": "{\"fields\":[{\"metadata\":{},\"name\":\"messages\",\"nullable\":true,\"type\":{\"containsNull\":true,\"elementType\":{\"fields\":[{\"metadata\":{},\"name\":\"content\",\"nullable\":true,\"type\":\"string\"},{\"metadata\":{},\"name\":\"role\",\"nullable\":true,\"type\":\"string\"}],\"type\":\"struct\"},\"type\":\"array\"}}],\"type\":\"struct\"}"
        },
        {
         "metadata": "{}",
         "name": "expected_response",
         "type": "\"void\""
        }
       ],
       "type": "table"
      }
     },
     "output_type": "display_data"
    }
   ],
   "source": [
    "import pandas as pd\n",
    "\n",
    "eval_examples = [\n",
    "    {\n",
    "        \"request\": {\"messages\": [{\"role\": \"user\", \"content\": \"What is an 4*3 in python?\"}]},\n",
    "        \"expected_response\": None,\n",
    "    }\n",
    "]\n",
    "\n",
    "eval_dataset = pd.DataFrame(eval_examples)\n",
    "display(eval_dataset)\n"
   ]
  },
  {
   "cell_type": "code",
   "execution_count": 0,
   "metadata": {
    "application/vnd.databricks.v1+cell": {
     "cellMetadata": {
      "byteLimit": 2048000,
      "rowLimit": 10000
     },
     "inputWidgets": {},
     "nuid": "340d15cb-ca0f-45bb-984f-6a0e6a1b635f",
     "showTitle": false,
     "tableResultSettingsMap": {},
     "title": ""
    }
   },
   "outputs": [
    {
     "output_type": "display_data",
     "data": {
      "application/vnd.jupyter.widget-view+json": {
       "model_id": "bf4546b554e4412fa20c4694fb655c8c",
       "version_major": 2,
       "version_minor": 0
      },
      "text/plain": [
       "Downloading artifacts:   0%|          | 0/13 [00:00<?, ?it/s]"
      ]
     },
     "metadata": {},
     "output_type": "display_data"
    },
    {
     "output_type": "stream",
     "name": "stderr",
     "output_type": "stream",
     "text": [
      "WARNING:opentelemetry.trace:Overriding of current TracerProvider is not allowed\nWARNING:opentelemetry.instrumentation.instrumentor:Attempting to instrument while already instrumented\n"
     ]
    },
    {
     "output_type": "stream",
     "name": "stdout",
     "output_type": "stream",
     "text": [
      "🔭 OpenTelemetry Tracing Details 🔭\n|  Arize Project: [REDACTED]\n|  Span Processor: BatchSpanProcessor\n|  Collector Endpoint: otlp.arize.com\n|  Transport: gRPC\n|  Transport Headers: {'authorization': '****', 'api_key': '****', 'arize-space-id': '****', 'space_id': '****', 'arize-interface': '****', 'user-agent': '****'}\n|  \n|  Using a default SpanProcessor. `add_span_processor` will overwrite this default.\n|  \n|  `register` has set this TracerProvider as the global OpenTelemetry default.\n|  To disable this behavior, call `register` with `set_global_tracer_provider=False`.\n\n"
     ]
    },
    {
     "output_type": "stream",
     "name": "stderr",
     "output_type": "stream",
     "text": [
      "2025/05/23 23:32:02 INFO mlflow.models.evaluation.utils.trace: Auto tracing is temporarily enabled during the model evaluation for computing some metrics and debugging. To disable tracing, call `mlflow.autolog(disable=True)`.\n"
     ]
    },
    {
     "output_type": "display_data",
     "data": {
      "application/vnd.jupyter.widget-view+json": {
       "model_id": "360532cd12794ec6aa82abb7e3f4bc4e",
       "version_major": 2,
       "version_minor": 0
      },
      "text/plain": [
       "Evaluating:   0%|          | 0/1 [Elapsed: 00:00, Remaining: ?]"
      ]
     },
     "metadata": {},
     "output_type": "display_data"
    },
    {
     "output_type": "stream",
     "name": "stderr",
     "output_type": "stream",
     "text": [
      "{\"ts\": \"2025-05-23 23:32:03,410\", \"level\": \"ERROR\", \"logger\": \"pyspark.sql.connect.client.logging\", \"msg\": \"GRPC Error received\", \"context\": {}, \"exception\": {\"class\": \"_MultiThreadedRendezvous\", \"msg\": \"<_MultiThreadedRendezvous of RPC that terminated with:\\n\\tstatus = StatusCode.FAILED_PRECONDITION\\n\\tdetails = \\\"BAD_REQUEST: session_id is no longer usable. Generate a new session_id by detaching and reattaching the compute and then try again [sessionId=267cd3f6-7c9b-45af-ba59-bcc78b41dbb3, reason=INACTIVITY_TIMEOUT]. (requestId=5e0e24bb-248c-42e4-b1e1-9f8b0c21ddce)\\\"\\n\\tdebug_error_string = \\\"UNKNOWN:Error received from peer  {created_time:\\\"2025-05-23T23:32:03.409275004+00:00\\\", grpc_status:9, grpc_message:\\\"BAD_REQUEST: session_id is no longer usable. Generate a new session_id by detaching and reattaching the compute and then try again [sessionId=267cd3f6-7c9b-45af-ba59-bcc78b41dbb3, reason=INACTIVITY_TIMEOUT]. (requestId=5e0e24bb-248c-42e4-b1e1-9f8b0c21ddce)\\\"}\\\"\\n>\", \"stacktrace\": [\"Traceback (most recent call last):\", \"  File \\\"/local_disk0/.ephemeral_nfs/envs/pythonEnv-76f81627-85a4-46c5-b7a9-35eb9f206793/lib/python3.10/site-packages/pyspark/sql/connect/client/core.py\\\", line 1902, in _execute_and_fetch_as_iterator\", \"    for b in generator:\", \"  File \\\"/usr/lib/python3.10/_collections_abc.py\\\", line 330, in __next__\", \"    return self.send(None)\", \"  File \\\"/local_disk0/.ephemeral_nfs/envs/pythonEnv-76f81627-85a4-46c5-b7a9-35eb9f206793/lib/python3.10/site-packages/pyspark/sql/connect/client/reattach.py\\\", line 141, in send\", \"    if not self._has_next():\", \"  File \\\"/local_disk0/.ephemeral_nfs/envs/pythonEnv-76f81627-85a4-46c5-b7a9-35eb9f206793/lib/python3.10/site-packages/pyspark/sql/connect/client/reattach.py\\\", line 202, in _has_next\", \"    raise e\", \"  File \\\"/local_disk0/.ephemeral_nfs/envs/pythonEnv-76f81627-85a4-46c5-b7a9-35eb9f206793/lib/python3.10/site-packages/pyspark/sql/connect/client/reattach.py\\\", line 174, in _has_next\", \"    self._current = self._call_iter(\", \"  File \\\"/local_disk0/.ephemeral_nfs/envs/pythonEnv-76f81627-85a4-46c5-b7a9-35eb9f206793/lib/python3.10/site-packages/pyspark/sql/connect/client/reattach.py\\\", line 299, in _call_iter\", \"    raise e\", \"  File \\\"/local_disk0/.ephemeral_nfs/envs/pythonEnv-76f81627-85a4-46c5-b7a9-35eb9f206793/lib/python3.10/site-packages/pyspark/sql/connect/client/reattach.py\\\", line 279, in _call_iter\", \"    return iter_fun()\", \"  File \\\"/local_disk0/.ephemeral_nfs/envs/pythonEnv-76f81627-85a4-46c5-b7a9-35eb9f206793/lib/python3.10/site-packages/pyspark/sql/connect/client/reattach.py\\\", line 175, in <lambda>\", \"    lambda: next(self._iterator)  # type: ignore[arg-type]\", \"  File \\\"/local_disk0/.ephemeral_nfs/envs/pythonEnv-76f81627-85a4-46c5-b7a9-35eb9f206793/lib/python3.10/site-packages/pyspark/sql/connect/client/core.py\\\", line 650, in __iter__\", \"    for response in self._call:\", \"  File \\\"/local_disk0/.ephemeral_nfs/envs/pythonEnv-76f81627-85a4-46c5-b7a9-35eb9f206793/lib/python3.10/site-packages/grpc/_channel.py\\\", line 543, in __next__\", \"    return self._next()\", \"  File \\\"/local_disk0/.ephemeral_nfs/envs/pythonEnv-76f81627-85a4-46c5-b7a9-35eb9f206793/lib/python3.10/site-packages/grpc/_channel.py\\\", line 969, in _next\", \"    raise self\", \"grpc._channel._MultiThreadedRendezvous: <_MultiThreadedRendezvous of RPC that terminated with:\", \"\\tstatus = StatusCode.FAILED_PRECONDITION\", \"\\tdetails = \\\"BAD_REQUEST: session_id is no longer usable. Generate a new session_id by detaching and reattaching the compute and then try again [sessionId=267cd3f6-7c9b-45af-ba59-bcc78b41dbb3, reason=INACTIVITY_TIMEOUT]. (requestId=5e0e24bb-248c-42e4-b1e1-9f8b0c21ddce)\\\"\", \"\\tdebug_error_string = \\\"UNKNOWN:Error received from peer  {created_time:\\\"2025-05-23T23:32:03.409275004+00:00\\\", grpc_status:9, grpc_message:\\\"BAD_REQUEST: session_id is no longer usable. Generate a new session_id by detaching and reattaching the compute and then try again [sessionId=267cd3f6-7c9b-45af-ba59-bcc78b41dbb3, reason=INACTIVITY_TIMEOUT]. (requestId=5e0e24bb-248c-42e4-b1e1-9f8b0c21ddce)\\\"}\\\"\", \">\"]}}\n{\"ts\": \"2025-05-23 23:32:03,410\", \"level\": \"ERROR\", \"logger\": \"pyspark.sql.connect.client.logging\", \"msg\": \"GRPC Error received\", \"context\": {}, \"exception\": {\"class\": \"_MultiThreadedRendezvous\", \"msg\": \"<_MultiThreadedRendezvous of RPC that terminated with:\\n\\tstatus = StatusCode.FAILED_PRECONDITION\\n\\tdetails = \\\"BAD_REQUEST: session_id is no longer usable. Generate a new session_id by detaching and reattaching the compute and then try again [sessionId=267cd3f6-7c9b-45af-ba59-bcc78b41dbb3, reason=INACTIVITY_TIMEOUT]. (requestId=5e0e24bb-248c-42e4-b1e1-9f8b0c21ddce)\\\"\\n\\tdebug_error_string = \\\"UNKNOWN:Error received from peer  {created_time:\\\"2025-05-23T23:32:03.409275004+00:00\\\", grpc_status:9, grpc_message:\\\"BAD_REQUEST: session_id is no longer usable. Generate a new session_id by detaching and reattaching the compute and then try again [sessionId=267cd3f6-7c9b-45af-ba59-bcc78b41dbb3, reason=INACTIVITY_TIMEOUT]. (requestId=5e0e24bb-248c-42e4-b1e1-9f8b0c21ddce)\\\"}\\\"\\n>\", \"stacktrace\": [\"Traceback (most recent call last):\", \"  File \\\"/local_disk0/.ephemeral_nfs/envs/pythonEnv-76f81627-85a4-46c5-b7a9-35eb9f206793/lib/python3.10/site-packages/pyspark/sql/connect/client/core.py\\\", line 1902, in _execute_and_fetch_as_iterator\", \"    for b in generator:\", \"  File \\\"/usr/lib/python3.10/_collections_abc.py\\\", line 330, in __next__\", \"    return self.send(None)\", \"  File \\\"/local_disk0/.ephemeral_nfs/envs/pythonEnv-76f81627-85a4-46c5-b7a9-35eb9f206793/lib/python3.10/site-packages/pyspark/sql/connect/client/reattach.py\\\", line 141, in send\", \"    if not self._has_next():\", \"  File \\\"/local_disk0/.ephemeral_nfs/envs/pythonEnv-76f81627-85a4-46c5-b7a9-35eb9f206793/lib/python3.10/site-packages/pyspark/sql/connect/client/reattach.py\\\", line 202, in _has_next\", \"    raise e\", \"  File \\\"/local_disk0/.ephemeral_nfs/envs/pythonEnv-76f81627-85a4-46c5-b7a9-35eb9f206793/lib/python3.10/site-packages/pyspark/sql/connect/client/reattach.py\\\", line 174, in _has_next\", \"    self._current = self._call_iter(\", \"  File \\\"/local_disk0/.ephemeral_nfs/envs/pythonEnv-76f81627-85a4-46c5-b7a9-35eb9f206793/lib/python3.10/site-packages/pyspark/sql/connect/client/reattach.py\\\", line 299, in _call_iter\", \"    raise e\", \"  File \\\"/local_disk0/.ephemeral_nfs/envs/pythonEnv-76f81627-85a4-46c5-b7a9-35eb9f206793/lib/python3.10/site-packages/pyspark/sql/connect/client/reattach.py\\\", line 279, in _call_iter\", \"    return iter_fun()\", \"  File \\\"/local_disk0/.ephemeral_nfs/envs/pythonEnv-76f81627-85a4-46c5-b7a9-35eb9f206793/lib/python3.10/site-packages/pyspark/sql/connect/client/reattach.py\\\", line 175, in <lambda>\", \"    lambda: next(self._iterator)  # type: ignore[arg-type]\", \"  File \\\"/local_disk0/.ephemeral_nfs/envs/pythonEnv-76f81627-85a4-46c5-b7a9-35eb9f206793/lib/python3.10/site-packages/pyspark/sql/connect/client/core.py\\\", line 650, in __iter__\", \"    for response in self._call:\", \"  File \\\"/local_disk0/.ephemeral_nfs/envs/pythonEnv-76f81627-85a4-46c5-b7a9-35eb9f206793/lib/python3.10/site-packages/grpc/_channel.py\\\", line 543, in __next__\", \"    return self._next()\", \"  File \\\"/local_disk0/.ephemeral_nfs/envs/pythonEnv-76f81627-85a4-46c5-b7a9-35eb9f206793/lib/python3.10/site-packages/grpc/_channel.py\\\", line 969, in _next\", \"    raise self\", \"grpc._channel._MultiThreadedRendezvous: <_MultiThreadedRendezvous of RPC that terminated with:\", \"\\tstatus = StatusCode.FAILED_PRECONDITION\", \"\\tdetails = \\\"BAD_REQUEST: session_id is no longer usable. Generate a new session_id by detaching and reattaching the compute and then try again [sessionId=267cd3f6-7c9b-45af-ba59-bcc78b41dbb3, reason=INACTIVITY_TIMEOUT]. (requestId=5e0e24bb-248c-42e4-b1e1-9f8b0c21ddce)\\\"\", \"\\tdebug_error_string = \\\"UNKNOWN:Error received from peer  {created_time:\\\"2025-05-23T23:32:03.409275004+00:00\\\", grpc_status:9, grpc_message:\\\"BAD_REQUEST: session_id is no longer usable. Generate a new session_id by detaching and reattaching the compute and then try again [sessionId=267cd3f6-7c9b-45af-ba59-bcc78b41dbb3, reason=INACTIVITY_TIMEOUT]. (requestId=5e0e24bb-248c-42e4-b1e1-9f8b0c21ddce)\\\"}\\\"\", \">\"]}}\n{\"ts\": \"2025-05-23 23:32:03,410\", \"level\": \"ERROR\", \"logger\": \"pyspark.sql.connect.client.logging\", \"msg\": \"GRPC Error received\", \"context\": {}, \"exception\": {\"class\": \"_MultiThreadedRendezvous\", \"msg\": \"<_MultiThreadedRendezvous of RPC that terminated with:\\n\\tstatus = StatusCode.FAILED_PRECONDITION\\n\\tdetails = \\\"BAD_REQUEST: session_id is no longer usable. Generate a new session_id by detaching and reattaching the compute and then try again [sessionId=267cd3f6-7c9b-45af-ba59-bcc78b41dbb3, reason=INACTIVITY_TIMEOUT]. (requestId=5e0e24bb-248c-42e4-b1e1-9f8b0c21ddce)\\\"\\n\\tdebug_error_string = \\\"UNKNOWN:Error received from peer  {created_time:\\\"2025-05-23T23:32:03.409275004+00:00\\\", grpc_status:9, grpc_message:\\\"BAD_REQUEST: session_id is no longer usable. Generate a new session_id by detaching and reattaching the compute and then try again [sessionId=267cd3f6-7c9b-45af-ba59-bcc78b41dbb3, reason=INACTIVITY_TIMEOUT]. (requestId=5e0e24bb-248c-42e4-b1e1-9f8b0c21ddce)\\\"}\\\"\\n>\", \"stacktrace\": [\"Traceback (most recent call last):\", \"  File \\\"/local_disk0/.ephemeral_nfs/envs/pythonEnv-76f81627-85a4-46c5-b7a9-35eb9f206793/lib/python3.10/site-packages/pyspark/sql/connect/client/core.py\\\", line 1902, in _execute_and_fetch_as_iterator\", \"    for b in generator:\", \"  File \\\"/usr/lib/python3.10/_collections_abc.py\\\", line 330, in __next__\", \"    return self.send(None)\", \"  File \\\"/local_disk0/.ephemeral_nfs/envs/pythonEnv-76f81627-85a4-46c5-b7a9-35eb9f206793/lib/python3.10/site-packages/pyspark/sql/connect/client/reattach.py\\\", line 141, in send\", \"    if not self._has_next():\", \"  File \\\"/local_disk0/.ephemeral_nfs/envs/pythonEnv-76f81627-85a4-46c5-b7a9-35eb9f206793/lib/python3.10/site-packages/pyspark/sql/connect/client/reattach.py\\\", line 202, in _has_next\", \"    raise e\", \"  File \\\"/local_disk0/.ephemeral_nfs/envs/pythonEnv-76f81627-85a4-46c5-b7a9-35eb9f206793/lib/python3.10/site-packages/pyspark/sql/connect/client/reattach.py\\\", line 174, in _has_next\", \"    self._current = self._call_iter(\", \"  File \\\"/local_disk0/.ephemeral_nfs/envs/pythonEnv-76f81627-85a4-46c5-b7a9-35eb9f206793/lib/python3.10/site-packages/pyspark/sql/connect/client/reattach.py\\\", line 299, in _call_iter\", \"    raise e\", \"  File \\\"/local_disk0/.ephemeral_nfs/envs/pythonEnv-76f81627-85a4-46c5-b7a9-35eb9f206793/lib/python3.10/site-packages/pyspark/sql/connect/client/reattach.py\\\", line 279, in _call_iter\", \"    return iter_fun()\", \"  File \\\"/local_disk0/.ephemeral_nfs/envs/pythonEnv-76f81627-85a4-46c5-b7a9-35eb9f206793/lib/python3.10/site-packages/pyspark/sql/connect/client/reattach.py\\\", line 175, in <lambda>\", \"    lambda: next(self._iterator)  # type: ignore[arg-type]\", \"  File \\\"/local_disk0/.ephemeral_nfs/envs/pythonEnv-76f81627-85a4-46c5-b7a9-35eb9f206793/lib/python3.10/site-packages/pyspark/sql/connect/client/core.py\\\", line 650, in __iter__\", \"    for response in self._call:\", \"  File \\\"/local_disk0/.ephemeral_nfs/envs/pythonEnv-76f81627-85a4-46c5-b7a9-35eb9f206793/lib/python3.10/site-packages/grpc/_channel.py\\\", line 543, in __next__\", \"    return self._next()\", \"  File \\\"/local_disk0/.ephemeral_nfs/envs/pythonEnv-76f81627-85a4-46c5-b7a9-35eb9f206793/lib/python3.10/site-packages/grpc/_channel.py\\\", line 969, in _next\", \"    raise self\", \"grpc._channel._MultiThreadedRendezvous: <_MultiThreadedRendezvous of RPC that terminated with:\", \"\\tstatus = StatusCode.FAILED_PRECONDITION\", \"\\tdetails = \\\"BAD_REQUEST: session_id is no longer usable. Generate a new session_id by detaching and reattaching the compute and then try again [sessionId=267cd3f6-7c9b-45af-ba59-bcc78b41dbb3, reason=INACTIVITY_TIMEOUT]. (requestId=5e0e24bb-248c-42e4-b1e1-9f8b0c21ddce)\\\"\", \"\\tdebug_error_string = \\\"UNKNOWN:Error received from peer  {created_time:\\\"2025-05-23T23:32:03.409275004+00:00\\\", grpc_status:9, grpc_message:\\\"BAD_REQUEST: session_id is no longer usable. Generate a new session_id by detaching and reattaching the compute and then try again [sessionId=267cd3f6-7c9b-45af-ba59-bcc78b41dbb3, reason=INACTIVITY_TIMEOUT]. (requestId=5e0e24bb-248c-42e4-b1e1-9f8b0c21ddce)\\\"}\\\"\", \">\"]}}\nERROR:pyspark.sql.connect.client.logging:GRPC Error received\nTraceback (most recent call last):\n  File \"/local_disk0/.ephemeral_nfs/envs/pythonEnv-76f81627-85a4-46c5-b7a9-35eb9f206793/lib/python3.10/site-packages/pyspark/sql/connect/client/core.py\", line 1902, in _execute_and_fetch_as_iterator\n    for b in generator:\n  File \"/usr/lib/python3.10/_collections_abc.py\", line 330, in __next__\n    return self.send(None)\n  File \"/local_disk0/.ephemeral_nfs/envs/pythonEnv-76f81627-85a4-46c5-b7a9-35eb9f206793/lib/python3.10/site-packages/pyspark/sql/connect/client/reattach.py\", line 141, in send\n    if not self._has_next():\n  File \"/local_disk0/.ephemeral_nfs/envs/pythonEnv-76f81627-85a4-46c5-b7a9-35eb9f206793/lib/python3.10/site-packages/pyspark/sql/connect/client/reattach.py\", line 202, in _has_next\n    raise e\n  File \"/local_disk0/.ephemeral_nfs/envs/pythonEnv-76f81627-85a4-46c5-b7a9-35eb9f206793/lib/python3.10/site-packages/pyspark/sql/connect/client/reattach.py\", line 174, in _has_next\n    self._current = self._call_iter(\n  File \"/local_disk0/.ephemeral_nfs/envs/pythonEnv-76f81627-85a4-46c5-b7a9-35eb9f206793/lib/python3.10/site-packages/pyspark/sql/connect/client/reattach.py\", line 299, in _call_iter\n    raise e\n  File \"/local_disk0/.ephemeral_nfs/envs/pythonEnv-76f81627-85a4-46c5-b7a9-35eb9f206793/lib/python3.10/site-packages/pyspark/sql/connect/client/reattach.py\", line 279, in _call_iter\n    return iter_fun()\n  File \"/local_disk0/.ephemeral_nfs/envs/pythonEnv-76f81627-85a4-46c5-b7a9-35eb9f206793/lib/python3.10/site-packages/pyspark/sql/connect/client/reattach.py\", line 175, in <lambda>\n    lambda: next(self._iterator)  # type: ignore[arg-type]\n  File \"/local_disk0/.ephemeral_nfs/envs/pythonEnv-76f81627-85a4-46c5-b7a9-35eb9f206793/lib/python3.10/site-packages/pyspark/sql/connect/client/core.py\", line 650, in __iter__\n    for response in self._call:\n  File \"/local_disk0/.ephemeral_nfs/envs/pythonEnv-76f81627-85a4-46c5-b7a9-35eb9f206793/lib/python3.10/site-packages/grpc/_channel.py\", line 543, in __next__\n    return self._next()\n  File \"/local_disk0/.ephemeral_nfs/envs/pythonEnv-76f81627-85a4-46c5-b7a9-35eb9f206793/lib/python3.10/site-packages/grpc/_channel.py\", line 969, in _next\n    raise self\ngrpc._channel._MultiThreadedRendezvous: <_MultiThreadedRendezvous of RPC that terminated with:\n\tstatus = StatusCode.FAILED_PRECONDITION\n\tdetails = \"BAD_REQUEST: session_id is no longer usable. Generate a new session_id by detaching and reattaching the compute and then try again [sessionId=267cd3f6-7c9b-45af-ba59-bcc78b41dbb3, reason=INACTIVITY_TIMEOUT]. (requestId=5e0e24bb-248c-42e4-b1e1-9f8b0c21ddce)\"\n\tdebug_error_string = \"UNKNOWN:Error received from peer  {created_time:\"2025-05-23T23:32:03.409275004+00:00\", grpc_status:9, grpc_message:\"BAD_REQUEST: session_id is no longer usable. Generate a new session_id by detaching and reattaching the compute and then try again [sessionId=267cd3f6-7c9b-45af-ba59-bcc78b41dbb3, reason=INACTIVITY_TIMEOUT]. (requestId=5e0e24bb-248c-42e4-b1e1-9f8b0c21ddce)\"}\"\n>\n/local_disk0/.ephemeral_nfs/envs/pythonEnv-76f81627-85a4-46c5-b7a9-35eb9f206793/lib/python3.10/site-packages/pyspark/sql/connect/client/core.py:2319: UserWarning: Spark Connect Session expired on the server. Please generate a new session by detaching and reattaching the compute or by calling DatabricksSession.builder.getOrCreate().\n  warnings.warn(\n/local_disk0/.ephemeral_nfs/envs/pythonEnv-76f81627-85a4-46c5-b7a9-35eb9f206793/lib/python3.10/site-packages/pyspark/sql/connect/client/reattach.py:255: UserWarning: ReleaseExecute failed with exception: <_InactiveRpcError of RPC that terminated with:\n\tstatus = StatusCode.FAILED_PRECONDITION\n\tdetails = \"BAD_REQUEST: session_id is no longer usable. Generate a new session_id by detaching and reattaching the compute and then try again [sessionId=267cd3f6-7c9b-45af-ba59-bcc78b41dbb3, reason=INACTIVITY_TIMEOUT]. (requestId=6d9dd28d-82df-48cb-a0b6-7bbaf15aca2e)\"\n\tdebug_error_string = \"UNKNOWN:Error received from peer  {created_time:\"2025-05-23T23:32:03.448960934+00:00\", grpc_status:9, grpc_message:\"BAD_REQUEST: session_id is no longer usable. Generate a new session_id by detaching and reattaching the compute and then try again [sessionId=267cd3f6-7c9b-45af-ba59-bcc78b41dbb3, reason=INACTIVITY_TIMEOUT]. (requestId=6d9dd28d-82df-48cb-a0b6-7bbaf15aca2e)\"}\"\n>.\n  warnings.warn(f\"ReleaseExecute failed with exception: {e}.\")\nWARNING:unitycatalog.ai.core.utils.retry_utils:Session expired. Retrying attempt 1 of 5. Refreshing session and retrying after 1 seconds...\n/local_disk0/.ephemeral_nfs/envs/pythonEnv-76f81627-85a4-46c5-b7a9-35eb9f206793/lib/python3.10/site-packages/databricks/connect/session.py:454: UserWarning: Ignoring the default notebook Spark session and creating a new Spark Connect session. To use the default notebook Spark session, use DatabricksSession.builder.getOrCreate() with no additional parameters.\n  warnings.warn(new_notebook_session_msg)\n"
     ]
    },
    {
     "output_type": "display_data",
     "data": {
      "text/html": [
       "<!DOCTYPE html>\n",
       "<html lang=\"en\">\n",
       "<head>\n",
       "    <title>Evaluation output</title>\n",
       "    <meta charset=\"UTF-8\">\n",
       "    <meta name=\"viewport\" content=\"width=device-width, initial-scale=1.0\">\n",
       "    <style>\n",
       "        body {\n",
       "            font-family: Arial, sans-serif;\n",
       "        }\n",
       "\n",
       "        .header {\n",
       "            a.button {\n",
       "                padding: 4px 8px;\n",
       "                line-height: 20px;\n",
       "                box-shadow: none;\n",
       "                height: 20px;\n",
       "                display: inline-flex;\n",
       "                align-items: center;\n",
       "                justify-content: center;\n",
       "                vertical-align: middle;\n",
       "                background-color: rgb(34, 114, 180);\n",
       "                color: rgb(255, 255, 255);\n",
       "                text-decoration: none;\n",
       "                animation-duration: 0s;\n",
       "                transition: none 0s ease 0s;\n",
       "                position: relative;\n",
       "                white-space: nowrap;\n",
       "                text-align: center;\n",
       "                border: 1px solid rgb(192, 205, 216);\n",
       "                cursor: pointer;\n",
       "                user-select: none;\n",
       "                touch-action: manipulation;\n",
       "                border-radius: 4px;\n",
       "                gap: 6px;\n",
       "            }\n",
       "\n",
       "            a.button:hover {\n",
       "                background-color: rgb(14, 83, 139) !important;\n",
       "                border-color: transparent !important;\n",
       "                color: rgb(255, 255, 255) !important;\n",
       "            }\n",
       "        }\n",
       "\n",
       "        .warnings-section {\n",
       "            margin-top: 8px;\n",
       "\n",
       "            ul {\n",
       "                list-style-type: none;\n",
       "            }\n",
       "        }\n",
       "\n",
       "        .instructions-section {\n",
       "            margin-top: 16px;\n",
       "            font-size: 14px;\n",
       "\n",
       "            ul {\n",
       "                margin-top: 0;\n",
       "                margin-bottom: 0;\n",
       "            }\n",
       "        }\n",
       "\n",
       "        code {\n",
       "            font-family: monospace;\n",
       "        }\n",
       "\n",
       "        .note {\n",
       "            color: #666;\n",
       "        }\n",
       "\n",
       "        a {\n",
       "            color: #2272B4;\n",
       "            text-decoration: none;\n",
       "        }\n",
       "\n",
       "        a:hover {\n",
       "            color: #005580;\n",
       "        }\n",
       "    </style>\n",
       "</head>\n",
       "<body>\n",
       "<div>\n",
       "    <div class=\"header\">\n",
       "        <a href=\"https://e2-demo-field-eng.cloud.databricks.com/ml/experiments/913238801424870/runs/8a975f4c40b44e46916ff1e615bf5d76/evaluations/\" class=\"button\">\n",
       "            View evaluation results: 1/1 pass\n",
       "            <svg xmlns=\"http://www.w3.org/2000/svg\" width=\"1em\" height=\"1em\" fill=\"none\" viewBox=\"0 0 16 16\" aria-hidden=\"true\" focusable=\"false\" class=\"\">\n",
       "                <path fill=\"currentColor\" d=\"M10 1h5v5h-1.5V3.56L8.53 8.53 7.47 7.47l4.97-4.97H10z\"></path>\n",
       "                <path fill=\"currentColor\" d=\"M1 2.75A.75.75 0 0 1 1.75 2H8v1.5H2.5v10h10V8H14v6.25a.75.75 0 0 1-.75.75H1.75a.75.75 0 0 1-.75-.75z\"></path>\n",
       "            </svg>\n",
       "        </a>\n",
       "    </div>\n",
       "</div>\n",
       "</body>\n",
       "</html>"
      ]
     },
     "metadata": {},
     "output_type": "display_data"
    },
    {
     "output_type": "execute_result",
     "data": {
      "text/html": [
       "<div>\n",
       "<style scoped>\n",
       "    .dataframe tbody tr th:only-of-type {\n",
       "        vertical-align: middle;\n",
       "    }\n",
       "\n",
       "    .dataframe tbody tr th {\n",
       "        vertical-align: top;\n",
       "    }\n",
       "\n",
       "    .dataframe thead th {\n",
       "        text-align: right;\n",
       "    }\n",
       "</style>\n",
       "<table border=\"1\" class=\"dataframe\">\n",
       "  <thead>\n",
       "    <tr style=\"text-align: right;\">\n",
       "      <th></th>\n",
       "      <th>request_id</th>\n",
       "      <th>request</th>\n",
       "      <th>response</th>\n",
       "      <th>trace</th>\n",
       "      <th>tool_calls</th>\n",
       "      <th>response/overall_assessment/rating</th>\n",
       "      <th>response/llm_judged/safety/rating</th>\n",
       "      <th>response/llm_judged/safety/rationale</th>\n",
       "      <th>response/llm_judged/relevance_to_query/rating</th>\n",
       "      <th>response/llm_judged/relevance_to_query/rationale</th>\n",
       "      <th>agent/latency_seconds</th>\n",
       "    </tr>\n",
       "  </thead>\n",
       "  <tbody>\n",
       "    <tr>\n",
       "      <th>0</th>\n",
       "      <td>ae1bdf509270aca8a0fa7f7928d52871a73a899eeb9b64...</td>\n",
       "      <td>{'messages': [{'role': 'user', 'content': 'Wha...</td>\n",
       "      <td>{'messages': [{'role': 'assistant', 'content':...</td>\n",
       "      <td>{\"info\": {\"request_id\": \"tr-4741c0bd8a19459a81...</td>\n",
       "      <td>[{'tool_name': 'system__ai__python_exec', 'too...</td>\n",
       "      <td>yes</td>\n",
       "      <td>yes</td>\n",
       "      <td>No harmful content detected in response</td>\n",
       "      <td>yes</td>\n",
       "      <td>The question asks about '4*3 in python,' which...</td>\n",
       "      <td>6.204</td>\n",
       "    </tr>\n",
       "  </tbody>\n",
       "</table>\n",
       "</div>"
      ],
      "text/plain": [
       "                                          request_id  ... agent/latency_seconds\n",
       "0  ae1bdf509270aca8a0fa7f7928d52871a73a899eeb9b64...  ...                 6.204\n",
       "\n",
       "[1 rows x 11 columns]"
      ]
     },
     "execution_count": 18,
     "metadata": {},
     "output_type": "execute_result"
    }
   ],
   "source": [
    "import mlflow\n",
    "\n",
    "with mlflow.start_run(run_id=logged_agent_info.run_id):\n",
    "    eval_results = mlflow.evaluate(\n",
    "        f\"runs:/{logged_agent_info.run_id}/agent\",\n",
    "        data=eval_dataset,  # Your evaluation dataset\n",
    "        model_type=\"databricks-agent\",  # Enable Mosaic AI Agent Evaluation\n",
    "    )\n",
    "\n",
    "# Review the evaluation results in the MLFLow UI (see console output), or access them in place:\n",
    "eval_results.tables['eval_results'].head(10)"
   ]
  },
  {
   "cell_type": "markdown",
   "metadata": {
    "application/vnd.databricks.v1+cell": {
     "cellMetadata": {
      "byteLimit": 2048000,
      "rowLimit": 10000
     },
     "inputWidgets": {},
     "nuid": "ee2348c5-c499-4d5b-8990-7899269b08b4",
     "showTitle": false,
     "tableResultSettingsMap": {},
     "title": ""
    }
   },
   "source": [
    "## Pre-deployment agent validation\n",
    "Before registering and deploying the agent, perform pre-deployment checks using the [mlflow.models.predict()](https://mlflow.org/docs/latest/python_api/mlflow.models.html#mlflow.models.predict) API. See Databricks documentation ([AWS](https://docs.databricks.com/en/machine-learning/model-serving/model-serving-debug.html#validate-inputs) | [Azure](https://learn.microsoft.com/en-us/azure/databricks/machine-learning/model-serving/model-serving-debug#before-model-deployment-validation-checks))."
   ]
  },
  {
   "cell_type": "code",
   "execution_count": 0,
   "metadata": {
    "application/vnd.databricks.v1+cell": {
     "cellMetadata": {
      "byteLimit": 2048000,
      "rowLimit": 10000
     },
     "inputWidgets": {},
     "nuid": "924090ef-d49d-4934-9ad8-348627ebc4f4",
     "showTitle": false,
     "tableResultSettingsMap": {},
     "title": ""
    }
   },
   "outputs": [
    {
     "output_type": "stream",
     "name": "stderr",
     "output_type": "stream",
     "text": [
      "2025/05/23 23:32:30 INFO mlflow.models.flavor_backend_registry: Selected backend for flavor 'python_function'\n2025/05/23 23:32:32 INFO mlflow.utils.virtualenv: Creating a new environment in /tmp/virtualenv_envs/mlflow-7a88de29fb97acfd3f7d6cf3719b44f730c7f95e with python version 3.10.12 using uv\nUsing CPython 3.10.12 interpreter at: \u001B[36m/usr/bin/python3.10\u001B[39m\nCreating virtual environment at: \u001B[36m/tmp/virtualenv_envs/mlflow-7a88de29fb97acfd3f7d6cf3719b44f730c7f95e\u001B[39m\nActivate with: \u001B[32msource /tmp/virtualenv_envs/mlflow-7a88de29fb97acfd3f7d6cf3719b44f730c7f95e/bin/activate\u001B[39m\n2025/05/23 23:32:34 INFO mlflow.utils.virtualenv: Installing dependencies\n\u001B[2mUsing Python 3.10.12 environment at: /tmp/virtualenv_envs/mlflow-7a88de29fb97acfd3f7d6cf3719b44f730c7f95e\u001B[0m\n\u001B[2mResolved \u001B[1m3 packages\u001B[0m \u001B[2min 79ms\u001B[0m\u001B[0m\n\u001B[36m\u001B[1mDownloading\u001B[0m\u001B[39m setuptools \u001B[2m(1.1MiB)\u001B[0m\n\u001B[36m\u001B[1mDownloading\u001B[0m\u001B[39m pip \u001B[2m(2.0MiB)\u001B[0m\n \u001B[32m\u001B[1mDownloading\u001B[0m\u001B[39m setuptools\n \u001B[32m\u001B[1mDownloading\u001B[0m\u001B[39m pip\n\u001B[2mPrepared \u001B[1m3 packages\u001B[0m \u001B[2min 258ms\u001B[0m\u001B[0m\n\u001B[2mInstalled \u001B[1m3 packages\u001B[0m \u001B[2min 24ms\u001B[0m\u001B[0m\n \u001B[32m+\u001B[39m \u001B[1mpip\u001B[0m\u001B[2m==22.3.1\u001B[0m\n \u001B[32m+\u001B[39m \u001B[1msetuptools\u001B[0m\u001B[2m==80.8.0\u001B[0m\n \u001B[32m+\u001B[39m \u001B[1mwheel\u001B[0m\u001B[2m==0.38.4\u001B[0m\n\u001B[2mUsing Python 3.10.12 environment at: /tmp/virtualenv_envs/mlflow-7a88de29fb97acfd3f7d6cf3719b44f730c7f95e\u001B[0m\n\u001B[2mResolved \u001B[1m188 packages\u001B[0m \u001B[2min 1.33s\u001B[0m\u001B[0m\n\u001B[36m\u001B[1mDownloading\u001B[0m\u001B[39m numpy \u001B[2m(17.4MiB)\u001B[0m\n\u001B[36m\u001B[1mDownloading\u001B[0m\u001B[39m zstandard \u001B[2m(5.2MiB)\u001B[0m\n\u001B[36m\u001B[1mDownloading\u001B[0m\u001B[39m tiktoken \u001B[2m(1.1MiB)\u001B[0m\n\u001B[36m\u001B[1mDownloading\u001B[0m\u001B[39m pydantic-core \u001B[2m(1.9MiB)\u001B[0m\n\u001B[36m\u001B[1mDownloading\u001B[0m\u001B[39m botocore \u001B[2m(12.9MiB)\u001B[0m\n\u001B[36m\u001B[1mDownloading\u001B[0m\u001B[39m jedi \u001B[2m(1.5MiB)\u001B[0m\n\u001B[36m\u001B[1mDownloading\u001B[0m\u001B[39m sqlalchemy \u001B[2m(3.0MiB)\u001B[0m\n\u001B[36m\u001B[1mDownloading\u001B[0m\u001B[39m pillow \u001B[2m(4.4MiB)\u001B[0m\n\u001B[36m\u001B[1mDownloading\u001B[0m\u001B[39m mlflow-skinny \u001B[2m(6.0MiB)\u001B[0m\n\u001B[36m\u001B[1mDownloading\u001B[0m\u001B[39m fonttools \u001B[2m(4.5MiB)\u001B[0m\n\u001B[36m\u001B[1mDownloading\u001B[0m\u001B[39m aiohttp \u001B[2m(1.6MiB)\u001B[0m\n\u001B[36m\u001B[1mDownloading\u001B[0m\u001B[39m cryptography \u001B[2m(4.2MiB)\u001B[0m\n\u001B[36m\u001B[1mDownloading\u001B[0m\u001B[39m pygments \u001B[2m(1.2MiB)\u001B[0m\n\u001B[36m\u001B[1mDownloading\u001B[0m\u001B[39m kiwisolver \u001B[2m(1.6MiB)\u001B[0m\n\u001B[36m\u001B[1mDownloading\u001B[0m\u001B[39m langchain-community \u001B[2m(2.4MiB)\u001B[0m\n\u001B[36m\u001B[1mDownloading\u001B[0m\u001B[39m mlflow \u001B[2m(27.7MiB)\u001B[0m\n\u001B[36m\u001B[1mDownloading\u001B[0m\u001B[39m grpcio \u001B[2m(5.7MiB)\u001B[0m\n\u001B[36m\u001B[1mDownloading\u001B[0m\u001B[39m scikit-learn \u001B[2m(12.3MiB)\u001B[0m\n\u001B[36m\u001B[1mDownloading\u001B[0m\u001B[39m debugpy \u001B[2m(3.4MiB)\u001B[0m\n\u001B[36m\u001B[1mDownloading\u001B[0m\u001B[39m matplotlib \u001B[2m(8.2MiB)\u001B[0m\n\u001B[36m\u001B[1mDownloading\u001B[0m\u001B[39m pandas \u001B[2m(11.5MiB)\u001B[0m\n\u001B[36m\u001B[1mDownloading\u001B[0m\u001B[39m scipy \u001B[2m(35.9MiB)\u001B[0m\n\u001B[36m\u001B[1mDownloading\u001B[0m\u001B[39m pyarrow \u001B[2m(28.0MiB)\u001B[0m\n\u001B[36m\u001B[1mDownloading\u001B[0m\u001B[39m databricks-connect \u001B[2m(2.3MiB)\u001B[0m\n\u001B[36m\u001B[1mDownloading\u001B[0m\u001B[39m cython \u001B[2m(1.8MiB)\u001B[0m\n \u001B[32m\u001B[1mDownloading\u001B[0m\u001B[39m tiktoken\n \u001B[32m\u001B[1mDownloading\u001B[0m\u001B[39m pygments\n \u001B[32m\u001B[1mDownloading\u001B[0m\u001B[39m kiwisolver\n \u001B[32m\u001B[1mDownloading\u001B[0m\u001B[39m aiohttp\n \u001B[32m\u001B[1mDownloading\u001B[0m\u001B[39m pydantic-core\n \u001B[32m\u001B[1mDownloading\u001B[0m\u001B[39m cython\n \u001B[32m\u001B[1mDownloading\u001B[0m\u001B[39m databricks-connect\n \u001B[32m\u001B[1mDownloading\u001B[0m\u001B[39m sqlalchemy\n \u001B[32m\u001B[1mDownloading\u001B[0m\u001B[39m debugpy\n \u001B[32m\u001B[1mDownloading\u001B[0m\u001B[39m pillow\n \u001B[32m\u001B[1mDownloading\u001B[0m\u001B[39m fonttools\n \u001B[32m\u001B[1mDownloading\u001B[0m\u001B[39m cryptography\n \u001B[32m\u001B[1mDownloading\u001B[0m\u001B[39m zstandard\n \u001B[32m\u001B[1mDownloading\u001B[0m\u001B[39m grpcio\n \u001B[32m\u001B[1mDownloading\u001B[0m\u001B[39m langchain-community\n \u001B[32m\u001B[1mDownloading\u001B[0m\u001B[39m jedi\n \u001B[32m\u001B[1mDownloading\u001B[0m\u001B[39m matplotlib\n \u001B[32m\u001B[1mDownloading\u001B[0m\u001B[39m mlflow-skinny\n \u001B[32m\u001B[1mDownloading\u001B[0m\u001B[39m pandas\n \u001B[32m\u001B[1mDownloading\u001B[0m\u001B[39m scikit-learn\n \u001B[32m\u001B[1mDownloading\u001B[0m\u001B[39m numpy\n \u001B[32m\u001B[1mDownloading\u001B[0m\u001B[39m mlflow\n \u001B[32m\u001B[1mDownloading\u001B[0m\u001B[39m botocore\n \u001B[32m\u001B[1mDownloading\u001B[0m\u001B[39m pyarrow\n \u001B[32m\u001B[1mDownloading\u001B[0m\u001B[39m scipy\n\u001B[2mPrepared \u001B[1m187 packages\u001B[0m \u001B[2min 9.35s\u001B[0m\u001B[0m\n\u001B[2mInstalled \u001B[1m187 packages\u001B[0m \u001B[2min 856ms\u001B[0m\u001B[0m\n \u001B[32m+\u001B[39m \u001B[1maiohappyeyeballs\u001B[0m\u001B[2m==2.6.1\u001B[0m\n \u001B[32m+\u001B[39m \u001B[1maiohttp\u001B[0m\u001B[2m==3.12.0b3\u001B[0m\n \u001B[32m+\u001B[39m \u001B[1maiohttp-retry\u001B[0m\u001B[2m==2.9.1\u001B[0m\n \u001B[32m+\u001B[39m \u001B[1maiosignal\u001B[0m\u001B[2m==1.3.2\u001B[0m\n \u001B[32m+\u001B[39m \u001B[1malembic\u001B[0m\u001B[2m==1.16.1\u001B[0m\n \u001B[32m+\u001B[39m \u001B[1mannotated-types\u001B[0m\u001B[2m==0.7.0\u001B[0m\n \u001B[32m+\u001B[39m \u001B[1manyio\u001B[0m\u001B[2m==4.9.0\u001B[0m\n \u001B[32m+\u001B[39m \u001B[1marize-otel\u001B[0m\u001B[2m==0.8.1\u001B[0m\n \u001B[32m+\u001B[39m \u001B[1masttokens\u001B[0m\u001B[2m==3.0.0\u001B[0m\n \u001B[32m+\u001B[39m \u001B[1masync-timeout\u001B[0m\u001B[2m==4.0.3\u001B[0m\n \u001B[32m+\u001B[39m \u001B[1mattrs\u001B[0m\u001B[2m==25.3.0\u001B[0m\n \u001B[32m+\u001B[39m \u001B[1mautocommand\u001B[0m\u001B[2m==2.2.2\u001B[0m\n \u001B[32m+\u001B[39m \u001B[1mazure-core\u001B[0m\u001B[2m==1.34.0\u001B[0m\n \u001B[32m+\u001B[39m \u001B[1mazure-storage-blob\u001B[0m\u001B[2m==12.26.0b1\u001B[0m\n \u001B[32m+\u001B[39m \u001B[1mazure-storage-file-datalake\u001B[0m\u001B[2m==12.21.0b1\u001B[0m\n \u001B[32m+\u001B[39m \u001B[1mbackports-tarfile\u001B[0m\u001B[2m==1.2.0\u001B[0m\n \u001B[32m+\u001B[39m \u001B[1mblinker\u001B[0m\u001B[2m==1.9.0\u001B[0m\n \u001B[32m+\u001B[39m \u001B[1mboto3\u001B[0m\u001B[2m==1.38.23\u001B[0m\n \u001B[32m+\u001B[39m \u001B[1mbotocore\u001B[0m\u001B[2m==1.38.23\u001B[0m\n \u001B[32m+\u001B[39m \u001B[1mcachetools\u001B[0m\u001B[2m==5.5.2\u001B[0m\n \u001B[32m+\u001B[39m \u001B[1mcertifi\u001B[0m\u001B[2m==2025.4.26\u001B[0m\n \u001B[32m+\u001B[39m \u001B[1mcffi\u001B[0m\u001B[2m==1.17.1\u001B[0m\n \u001B[32m+\u001B[39m \u001B[1mcharset-normalizer\u001B[0m\u001B[2m==3.4.2\u001B[0m\n \u001B[32m+\u001B[39m \u001B[1mclick\u001B[0m\u001B[2m==8.2.1\u001B[0m\n \u001B[32m+\u001B[39m \u001B[1mcloudpickle\u001B[0m\u001B[2m==3.1.1\u001B[0m\n \u001B[32m+\u001B[39m \u001B[1mcomm\u001B[0m\u001B[2m==0.2.2\u001B[0m\n \u001B[32m+\u001B[39m \u001B[1mcontourpy\u001B[0m\u001B[2m==1.3.2\u001B[0m\n \u001B[32m+\u001B[39m \u001B[1mcryptography\u001B[0m\u001B[2m==45.0.2\u001B[0m\n \u001B[32m+\u001B[39m \u001B[1mcycler\u001B[0m\u001B[2m==0.12.1\u001B[0m\n \u001B[32m+\u001B[39m \u001B[1mcython\u001B[0m\u001B[2m==0.29.32\u001B[0m\n \u001B[32m+\u001B[39m \u001B[1mdatabricks-agents\u001B[0m\u001B[2m==0.22.1\u001B[0m\n \u001B[32m+\u001B[39m \u001B[1mdatabricks-ai-bridge\u001B[0m\u001B[2m==0.5.1\u001B[0m\n \u001B[32m+\u001B[39m \u001B[1mdatabricks-connect\u001B[0m\u001B[2m==16.1.5\u001B[0m\n \u001B[32m+\u001B[39m \u001B[1mdatabricks-langchain\u001B[0m\u001B[2m==0.5.1\u001B[0m\n \u001B[32m+\u001B[39m \u001B[1mdatabricks-sdk\u001B[0m\u001B[2m==0.54.0\u001B[0m\n \u001B[32m+\u001B[39m \u001B[1mdatabricks-vectorsearch\u001B[0m\u001B[2m==0.56\u001B[0m\n \u001B[32m+\u001B[39m \u001B[1mdataclasses-json\u001B[0m\u001B[2m==0.6.7\u001B[0m\n \u001B[32m+\u001B[39m \u001B[1mdebugpy\u001B[0m\u001B[2m==1.8.14\u001B[0m\n \u001B[32m+\u001B[39m \u001B[1mdecorator\u001B[0m\u001B[2m==5.2.1\u001B[0m\n \u001B[32m+\u001B[39m \u001B[1mdeprecated\u001B[0m\u001B[2m==1.2.18\u001B[0m\n \u001B[32m+\u001B[39m \u001B[1mdeprecation\u001B[0m\u001B[2m==2.1.0\u001B[0m\n \u001B[32m+\u001B[39m \u001B[1mdocker\u001B[0m\u001B[2m==7.1.0\u001B[0m\n \u001B[32m+\u001B[39m \u001B[1mexceptiongroup\u001B[0m\u001B[2m==1.3.0\u001B[0m\n \u001B[32m+\u001B[39m \u001B[1mexecuting\u001B[0m\u001B[2m==2.2.0\u001B[0m\n \u001B[32m+\u001B[39m \u001B[1mfastapi\u001B[0m\u001B[2m==0.115.12\u001B[0m\n \u001B[32m+\u001B[39m \u001B[1mflask\u001B[0m\u001B[2m==3.1.1\u001B[0m\n \u001B[32m+\u001B[39m \u001B[1mfonttools\u001B[0m\u001B[2m==4.58.0\u001B[0m\n \u001B[32m+\u001B[39m \u001B[1mfrozenlist\u001B[0m\u001B[2m==1.6.0\u001B[0m\n \u001B[32m+\u001B[39m \u001B[1mgitdb\u001B[0m\u001B[2m==4.0.12\u001B[0m\n \u001B[32m+\u001B[39m \u001B[1mgitpython\u001B[0m\u001B[2m==3.1.44\u001B[0m\n \u001B[32m+\u001B[39m \u001B[1mgoogle-api-core\u001B[0m\u001B[2m==2.25.0rc1\u001B[0m\n \u001B[32m+\u001B[39m \u001B[1mgoogle-auth\u001B[0m\u001B[2m==2.40.2\u001B[0m\n \u001B[32m+\u001B[39m \u001B[1mgoogle-cloud-core\u001B[0m\u001B[2m==2.4.3\u001B[0m\n \u001B[32m+\u001B[39m \u001B[1mgoogle-cloud-storage\u001B[0m\u001B[2m==3.1.0\u001B[0m\n \u001B[32m+\u001B[39m \u001B[1mgoogle-crc32c\u001B[0m\u001B[2m==1.7.1\u001B[0m\n \u001B[32m+\u001B[39m \u001B[1mgoogle-resumable-media\u001B[0m\u001B[2m==2.7.2\u001B[0m\n \u001B[32m+\u001B[39m \u001B[1mgoogleapis-common-protos\u001B[0m\u001B[2m==1.70.0\u001B[0m\n \u001B[32m+\u001B[39m \u001B[1mgraphene\u001B[0m\u001B[2m==3.4.3\u001B[0m\n \u001B[32m+\u001B[39m \u001B[1mgraphql-core\u001B[0m\u001B[2m==3.2.6\u001B[0m\n \u001B[32m+\u001B[39m \u001B[1mgraphql-relay\u001B[0m\u001B[2m==3.2.0\u001B[0m\n \u001B[32m+\u001B[39m \u001B[1mgreenlet\u001B[0m\u001B[2m==3.2.2\u001B[0m\n \u001B[32m+\u001B[39m \u001B[1mgrpcio\u001B[0m\u001B[2m==1.72.0rc1\u001B[0m\n \u001B[32m+\u001B[39m \u001B[1mgrpcio-status\u001B[0m\u001B[2m==1.71.0\u001B[0m\n \u001B[32m+\u001B[39m \u001B[1mgunicorn\u001B[0m\u001B[2m==23.0.0\u001B[0m\n \u001B[32m+\u001B[39m \u001B[1mh11\u001B[0m\u001B[2m==0.16.0\u001B[0m\n \u001B[32m+\u001B[39m \u001B[1mhttpcore\u001B[0m\u001B[2m==1.0.9\u001B[0m\n \u001B[32m+\u001B[39m \u001B[1mhttpx\u001B[0m\u001B[2m==0.28.1\u001B[0m\n \u001B[32m+\u001B[39m \u001B[1mhttpx-sse\u001B[0m\u001B[2m==0.4.0\u001B[0m\n \u001B[32m+\u001B[39m \u001B[1midna\u001B[0m\u001B[2m==3.10\u001B[0m\n \u001B[32m+\u001B[39m \u001B[1mimportlib-metadata\u001B[0m\u001B[2m==8.6.1\u001B[0m\n \u001B[32m+\u001B[39m \u001B[1mipykernel\u001B[0m\u001B[2m==6.25.0\u001B[0m\n \u001B[32m+\u001B[39m \u001B[1mipython\u001B[0m\u001B[2m==8.36.0\u001B[0m\n \u001B[32m+\u001B[39m \u001B[1misodate\u001B[0m\u001B[2m==0.7.2\u001B[0m\n \u001B[32m+\u001B[39m \u001B[1mitsdangerous\u001B[0m\u001B[2m==2.2.0\u001B[0m\n \u001B[32m+\u001B[39m \u001B[1mjaraco-collections\u001B[0m\u001B[2m==5.1.0\u001B[0m\n \u001B[32m+\u001B[39m \u001B[1mjaraco-context\u001B[0m\u001B[2m==6.0.1\u001B[0m\n \u001B[32m+\u001B[39m \u001B[1mjaraco-functools\u001B[0m\u001B[2m==4.1.0\u001B[0m\n \u001B[32m+\u001B[39m \u001B[1mjaraco-text\u001B[0m\u001B[2m==4.0.0\u001B[0m\n \u001B[32m+\u001B[39m \u001B[1mjedi\u001B[0m\u001B[2m==0.19.2\u001B[0m\n \u001B[32m+\u001B[39m \u001B[1mjinja2\u001B[0m\u001B[2m==3.1.6\u001B[0m\n \u001B[32m+\u001B[39m \u001B[1mjmespath\u001B[0m\u001B[2m==1.0.1\u001B[0m\n \u001B[32m+\u001B[39m \u001B[1mjoblib\u001B[0m\u001B[2m==1.5.1\u001B[0m\n \u001B[32m+\u001B[39m \u001B[1mjsonpatch\u001B[0m\u001B[2m==1.33\u001B[0m\n \u001B[32m+\u001B[39m \u001B[1mjsonpointer\u001B[0m\u001B[2m==3.0.0\u001B[0m\n \u001B[32m+\u001B[39m \u001B[1mjupyter-client\u001B[0m\u001B[2m==8.6.3\u001B[0m\n \u001B[32m+\u001B[39m \u001B[1mjupyter-core\u001B[0m\u001B[2m==5.7.2\u001B[0m\n \u001B[32m+\u001B[39m \u001B[1mkiwisolver\u001B[0m\u001B[2m==1.4.8\u001B[0m\n \u001B[32m+\u001B[39m \u001B[1mlangchain\u001B[0m\u001B[2m==0.3.25\u001B[0m\n \u001B[32m+\u001B[39m \u001B[1mlangchain-community\u001B[0m\u001B[2m==0.3.24\u001B[0m\n \u001B[32m+\u001B[39m \u001B[1mlangchain-core\u001B[0m\u001B[2m==0.3.61\u001B[0m\n \u001B[32m+\u001B[39m \u001B[1mlangchain-text-splitters\u001B[0m\u001B[2m==0.3.8\u001B[0m\n \u001B[32m+\u001B[39m \u001B[1mlanggraph\u001B[0m\u001B[2m==0.3.4\u001B[0m\n \u001B[32m+\u001B[39m \u001B[1mlanggraph-checkpoint\u001B[0m\u001B[2m==2.0.26\u001B[0m\n \u001B[32m+\u001B[39m \u001B[1mlanggraph-prebuilt\u001B[0m\u001B[2m==0.1.8\u001B[0m\n \u001B[32m+\u001B[39m \u001B[1mlanggraph-sdk\u001B[0m\u001B[2m==0.1.70\u001B[0m\n \u001B[32m+\u001B[39m \u001B[1mlangsmith\u001B[0m\u001B[2m==0.3.42\u001B[0m\n \u001B[32m+\u001B[39m \u001B[1mmako\u001B[0m\u001B[2m==1.3.10\u001B[0m\n \u001B[32m+\u001B[39m \u001B[1mmarkdown\u001B[0m\u001B[2m==3.8\u001B[0m\n \u001B[32m+\u001B[39m \u001B[1mmarkupsafe\u001B[0m\u001B[2m==3.0.2\u001B[0m\n \u001B[32m+\u001B[39m \u001B[1mmarshmallow\u001B[0m\u001B[2m==3.26.1\u001B[0m\n \u001B[32m+\u001B[39m \u001B[1mmatplotlib\u001B[0m\u001B[2m==3.10.3\u001B[0m\n \u001B[32m+\u001B[39m \u001B[1mmatplotlib-inline\u001B[0m\u001B[2m==0.1.7\u001B[0m\n \u001B[32m+\u001B[39m \u001B[1mmlflow\u001B[0m\u001B[2m==2.22.0\u001B[0m\n \u001B[32m+\u001B[39m \u001B[1mmlflow-skinny\u001B[0m\u001B[2m==2.22.0\u001B[0m\n \u001B[32m+\u001B[39m \u001B[1mmore-itertools\u001B[0m\u001B[2m==10.7.0\u001B[0m\n \u001B[32m+\u001B[39m \u001B[1mmultidict\u001B[0m\u001B[2m==6.4.4\u001B[0m\n \u001B[32m+\u001B[39m \u001B[1mmypy-extensions\u001B[0m\u001B[2m==1.1.0\u001B[0m\n \u001B[32m+\u001B[39m \u001B[1mnest-asyncio\u001B[0m\u001B[2m==1.6.0\u001B[0m\n \u001B[32m+\u001B[39m \u001B[1mnumpy\u001B[0m\u001B[2m==1.26.4\u001B[0m\n \u001B[32m+\u001B[39m \u001B[1mopeninference-instrumentation\u001B[0m\u001B[2m==0.1.31\u001B[0m\n \u001B[32m+\u001B[39m \u001B[1mopeninference-instrumentation-langchain\u001B[0m\u001B[2m==0.1.43\u001B[0m\n \u001B[32m+\u001B[39m \u001B[1mopeninference-semantic-conventions\u001B[0m\u001B[2m==0.1.17\u001B[0m\n \u001B[32m+\u001B[39m \u001B[1mopentelemetry-api\u001B[0m\u001B[2m==1.33.1\u001B[0m\n \u001B[32m+\u001B[39m \u001B[1mopentelemetry-exporter-otlp\u001B[0m\u001B[2m==1.33.1\u001B[0m\n \u001B[32m+\u001B[39m \u001B[1mopentelemetry-exporter-otlp-proto-common\u001B[0m\u001B[2m==1.33.1\u001B[0m\n \u001B[32m+\u001B[39m \u001B[1mopentelemetry-exporter-otlp-proto-grpc\u001B[0m\u001B[2m==1.33.1\u001B[0m\n \u001B[32m+\u001B[39m \u001B[1mopentelemetry-exporter-otlp-proto-http\u001B[0m\u001B[2m==1.33.1\u001B[0m\n \u001B[32m+\u001B[39m \u001B[1mopentelemetry-instrumentation\u001B[0m\u001B[2m==0.54b1\u001B[0m\n \u001B[32m+\u001B[39m \u001B[1mopentelemetry-proto\u001B[0m\u001B[2m==1.33.1\u001B[0m\n \u001B[32m+\u001B[39m \u001B[1mopentelemetry-sdk\u001B[0m\u001B[2m==1.33.1\u001B[0m\n \u001B[32m+\u001B[39m \u001B[1mopentelemetry-semantic-conventions\u001B[0m\u001B[2m==0.54b1\u001B[0m\n \u001B[32m+\u001B[39m \u001B[1morjson\u001B[0m\u001B[2m==3.10.18\u001B[0m\n \u001B[32m+\u001B[39m \u001B[1mormsgpack\u001B[0m\u001B[2m==1.9.1\u001B[0m\n \u001B[32m+\u001B[39m \u001B[1mpackaging\u001B[0m\u001B[2m==24.2\u001B[0m\n \u001B[32m+\u001B[39m \u001B[1mpandas\u001B[0m\u001B[2m==1.5.3\u001B[0m\n \u001B[32m+\u001B[39m \u001B[1mparso\u001B[0m\u001B[2m==0.8.4\u001B[0m\n \u001B[32m+\u001B[39m \u001B[1mpexpect\u001B[0m\u001B[2m==4.9.0\u001B[0m\n \u001B[32m+\u001B[39m \u001B[1mpillow\u001B[0m\u001B[2m==11.2.1\u001B[0m\n \u001B[32m+\u001B[39m \u001B[1mplatformdirs\u001B[0m\u001B[2m==4.3.8\u001B[0m\n \u001B[32m+\u001B[39m \u001B[1mprompt-toolkit\u001B[0m\u001B[2m==3.0.51\u001B[0m\n \u001B[32m+\u001B[39m \u001B[1mpropcache\u001B[0m\u001B[2m==0.3.1\u001B[0m\n \u001B[32m+\u001B[39m \u001B[1mproto-plus\u001B[0m\u001B[2m==1.26.1\u001B[0m\n \u001B[32m+\u001B[39m \u001B[1mprotobuf\u001B[0m\u001B[2m==5.29.4\u001B[0m\n \u001B[32m+\u001B[39m \u001B[1mpsutil\u001B[0m\u001B[2m==7.0.0\u001B[0m\n \u001B[32m+\u001B[39m \u001B[1mptyprocess\u001B[0m\u001B[2m==0.7.0\u001B[0m\n \u001B[32m+\u001B[39m \u001B[1mpure-eval\u001B[0m\u001B[2m==0.2.3\u001B[0m\n \u001B[32m+\u001B[39m \u001B[1mpy4j\u001B[0m\u001B[2m==0.10.9.7\u001B[0m\n \u001B[32m+\u001B[39m \u001B[1mpyarrow\u001B[0m\u001B[2m==8.0.0\u001B[0m\n \u001B[32m+\u001B[39m \u001B[1mpyasn1\u001B[0m\u001B[2m==0.6.1\u001B[0m\n \u001B[32m+\u001B[39m \u001B[1mpyasn1-modules\u001B[0m\u001B[2m==0.4.2\u001B[0m\n \u001B[32m+\u001B[39m \u001B[1mpycparser\u001B[0m\u001B[2m==2.22\u001B[0m\n \u001B[32m+\u001B[39m \u001B[1mpydantic\u001B[0m\u001B[2m==2.11.5\u001B[0m\n \u001B[32m+\u001B[39m \u001B[1mpydantic-core\u001B[0m\u001B[2m==2.33.2\u001B[0m\n \u001B[32m+\u001B[39m \u001B[1mpydantic-settings\u001B[0m\u001B[2m==2.9.1\u001B[0m\n \u001B[32m+\u001B[39m \u001B[1mpygments\u001B[0m\u001B[2m==2.19.1\u001B[0m\n \u001B[32m+\u001B[39m \u001B[1mpyparsing\u001B[0m\u001B[2m==3.2.3\u001B[0m\n \u001B[32m+\u001B[39m \u001B[1mpython-dateutil\u001B[0m\u001B[2m==2.9.0.post0\u001B[0m\n \u001B[32m+\u001B[39m \u001B[1mpython-dotenv\u001B[0m\u001B[2m==1.1.0\u001B[0m\n \u001B[32m+\u001B[39m \u001B[1mpytz\u001B[0m\u001B[2m==2025.2\u001B[0m\n \u001B[32m+\u001B[39m \u001B[1mpyyaml\u001B[0m\u001B[2m==6.0.2\u001B[0m\n \u001B[32m+\u001B[39m \u001B[1mpyzmq\u001B[0m\u001B[2m==26.4.0\u001B[0m\n \u001B[32m+\u001B[39m \u001B[1mregex\u001B[0m\u001B[2m==2024.11.6\u001B[0m\n \u001B[32m+\u001B[39m \u001B[1mrequests\u001B[0m\u001B[2m==2.32.3\u001B[0m\n \u001B[32m+\u001B[39m \u001B[1mrequests-toolbelt\u001B[0m\u001B[2m==1.0.0\u001B[0m\n \u001B[32m+\u001B[39m \u001B[1mrsa\u001B[0m\u001B[2m==4.9.1\u001B[0m\n \u001B[32m+\u001B[39m \u001B[1ms3transfer\u001B[0m\u001B[2m==0.13.0\u001B[0m\n \u001B[32m+\u001B[39m \u001B[1mscikit-learn\u001B[0m\u001B[2m==1.7.0rc1\u001B[0m\n \u001B[32m+\u001B[39m \u001B[1mscipy\u001B[0m\u001B[2m==1.15.3\u001B[0m\n \u001B[32m+\u001B[39m \u001B[1msix\u001B[0m\u001B[2m==1.17.0\u001B[0m\n \u001B[32m+\u001B[39m \u001B[1msmmap\u001B[0m\u001B[2m==5.0.2\u001B[0m\n \u001B[32m+\u001B[39m \u001B[1msniffio\u001B[0m\u001B[2m==1.3.1\u001B[0m\n \u001B[32m+\u001B[39m \u001B[1msqlalchemy\u001B[0m\u001B[2m==2.0.41\u001B[0m\n \u001B[32m+\u001B[39m \u001B[1msqlparse\u001B[0m\u001B[2m==0.5.3\u001B[0m\n \u001B[32m+\u001B[39m \u001B[1mstack-data\u001B[0m\u001B[2m==0.6.3\u001B[0m\n \u001B[32m+\u001B[39m \u001B[1mstarlette\u001B[0m\u001B[2m==0.46.2\u001B[0m\n \u001B[32m+\u001B[39m \u001B[1mtabulate\u001B[0m\u001B[2m==0.9.0\u001B[0m\n \u001B[32m+\u001B[39m \u001B[1mtenacity\u001B[0m\u001B[2m==9.1.2\u001B[0m\n \u001B[32m+\u001B[39m \u001B[1mthreadpoolctl\u001B[0m\u001B[2m==3.6.0\u001B[0m\n \u001B[32m+\u001B[39m \u001B[1mtiktoken\u001B[0m\u001B[2m==0.9.0\u001B[0m\n \u001B[32m+\u001B[39m \u001B[1mtomli\u001B[0m\u001B[2m==2.2.1\u001B[0m\n \u001B[32m+\u001B[39m \u001B[1mtornado\u001B[0m\u001B[2m==6.5.1\u001B[0m\n \u001B[32m+\u001B[39m \u001B[1mtqdm\u001B[0m\u001B[2m==4.67.1\u001B[0m\n \u001B[32m+\u001B[39m \u001B[1mtraitlets\u001B[0m\u001B[2m==5.14.3\u001B[0m\n \u001B[32m+\u001B[39m \u001B[1mtyping-extensions\u001B[0m\u001B[2m==4.13.2\u001B[0m\n \u001B[32m+\u001B[39m \u001B[1mtyping-inspect\u001B[0m\u001B[2m==0.9.0\u001B[0m\n \u001B[32m+\u001B[39m \u001B[1mtyping-inspection\u001B[0m\u001B[2m==0.4.1\u001B[0m\n \u001B[32m+\u001B[39m \u001B[1munitycatalog-ai\u001B[0m\u001B[2m==0.3.1\u001B[0m\n \u001B[32m+\u001B[39m \u001B[1munitycatalog-client\u001B[0m\u001B[2m==0.2.1\u001B[0m\n \u001B[32m+\u001B[39m \u001B[1munitycatalog-langchain\u001B[0m\u001B[2m==0.2.0\u001B[0m\n \u001B[32m+\u001B[39m \u001B[1murllib3\u001B[0m\u001B[2m==2.4.0\u001B[0m\n \u001B[32m+\u001B[39m \u001B[1muvicorn\u001B[0m\u001B[2m==0.34.2\u001B[0m\n \u001B[32m+\u001B[39m \u001B[1mwcwidth\u001B[0m\u001B[2m==0.2.13\u001B[0m\n \u001B[32m+\u001B[39m \u001B[1mwerkzeug\u001B[0m\u001B[2m==3.1.3\u001B[0m\n \u001B[32m+\u001B[39m \u001B[1mwrapt\u001B[0m\u001B[2m==1.17.2\u001B[0m\n \u001B[32m+\u001B[39m \u001B[1myarl\u001B[0m\u001B[2m==1.20.0\u001B[0m\n \u001B[32m+\u001B[39m \u001B[1mzipp\u001B[0m\u001B[2m==3.21.0\u001B[0m\n \u001B[32m+\u001B[39m \u001B[1mzstandard\u001B[0m\u001B[2m==0.23.0\u001B[0m\n2025/05/23 23:32:46 INFO mlflow.utils.environment: === Running command '['bash', '-c', 'source /tmp/virtualenv_envs/mlflow-7a88de29fb97acfd3f7d6cf3719b44f730c7f95e/bin/activate && python -c \"\"']'\n2025/05/23 23:32:46 INFO mlflow.utils.environment: === Running command '['bash', '-c', 'source /tmp/virtualenv_envs/mlflow-7a88de29fb97acfd3f7d6cf3719b44f730c7f95e/bin/activate && python /local_disk0/.ephemeral_nfs/envs/pythonEnv-76f81627-85a4-46c5-b7a9-35eb9f206793/lib/python3.10/site-packages/mlflow/pyfunc/_mlflow_pyfunc_backend_predict.py --model-uri file:///local_disk0/user_tmp_data/spark-76f81627-85a4-46c5-b7a9-35/tmprni37dhv/agent --content-type json --input-path /local_disk0/user_tmp_data/spark-76f81627-85a4-46c5-b7a9-35/tmpmhjxpso5/input.json']'\nFri May 23 23:32:59 2025 Connection to spark from PID  32730\nFri May 23 23:33:00 2025 Initialized gateway on port 41947\nFri May 23 23:33:00 2025 Connected to spark.\n"
     ]
    },
    {
     "output_type": "stream",
     "name": "stdout",
     "output_type": "stream",
     "text": [
      "🔭 OpenTelemetry Tracing Details 🔭\n|  Arize Project: [REDACTED]\n|  Span Processor: BatchSpanProcessor\n|  Collector Endpoint: otlp.arize.com\n|  Transport: gRPC\n|  Transport Headers: {'authorization': '****', 'api_key': '****', 'arize-space-id': '****', 'space_id': '****', 'arize-interface': '****', 'user-agent': '****'}\n|  \n|  Using a default SpanProcessor. `add_span_processor` will overwrite this default.\n|  \n|  `register` has set this TracerProvider as the global OpenTelemetry default.\n|  To disable this behavior, call `register` with `set_global_tracer_provider=False`.\n\n{\"messages\": [{\"role\": \"assistant\", \"content\": \"Hello! It's nice to meet you. Is there something I can help you with or would you like to chat?\", \"id\": \"run--e0a3f175-221c-4fb3-bb3d-1dba4d733dd9-0\"}]}"
     ]
    },
    {
     "output_type": "stream",
     "name": "stderr",
     "output_type": "stream",
     "text": [
      "INFO:py4j.clientserver:Closing down clientserver connection\n"
     ]
    }
   ],
   "source": [
    "mlflow.models.predict(\n",
    "    model_uri=f\"runs:/{logged_agent_info.run_id}/agent\",\n",
    "    input_data={\"messages\": [{\"role\": \"user\", \"content\": \"Hello!\"}]},\n",
    "    env_manager=\"uv\",\n",
    ")"
   ]
  },
  {
   "cell_type": "markdown",
   "metadata": {
    "application/vnd.databricks.v1+cell": {
     "cellMetadata": {
      "byteLimit": 2048000,
      "rowLimit": 10000
     },
     "inputWidgets": {},
     "nuid": "ba019ce2-7f3e-461a-b896-372805f19c00",
     "showTitle": false,
     "tableResultSettingsMap": {},
     "title": ""
    }
   },
   "source": [
    "## Register the model to Unity Catalog\n",
    "\n",
    "Before you deploy the agent, you must register the agent to Unity Catalog.\n",
    "\n",
    "- **TODO** Update the `catalog`, `schema`, and `model_name` below to register the MLflow model to Unity Catalog."
   ]
  },
  {
   "cell_type": "code",
   "execution_count": 0,
   "metadata": {
    "application/vnd.databricks.v1+cell": {
     "cellMetadata": {
      "byteLimit": 2048000,
      "rowLimit": 10000
     },
     "inputWidgets": {},
     "nuid": "3ceb4338-7c69-4833-b1be-0daf89366cd0",
     "showTitle": false,
     "tableResultSettingsMap": {},
     "title": ""
    }
   },
   "outputs": [
    {
     "output_type": "stream",
     "name": "stderr",
     "output_type": "stream",
     "text": [
      "Registered model 'prasad_kona_isv.demo.langgraph-tool-calling-agent' already exists. Creating a new version of this model...\nCreated version '3' of model 'prasad_kona_isv.demo.langgraph-tool-calling-agent'.\n"
     ]
    }
   ],
   "source": [
    "mlflow.set_registry_uri(\"databricks-uc\")\n",
    "\n",
    "# TODO: define the catalog, schema, and model name for your UC model\n",
    "catalog = \"prasad_kona_isv\"\n",
    "schema = \"demo\"\n",
    "model_name = \"langgraph-tool-calling-agent\"\n",
    "UC_MODEL_NAME = f\"{catalog}.{schema}.{model_name}\"\n",
    "\n",
    "# register the model to UC\n",
    "uc_registered_model_info = mlflow.register_model(\n",
    "    model_uri=logged_agent_info.model_uri, name=UC_MODEL_NAME\n",
    ")"
   ]
  },
  {
   "cell_type": "markdown",
   "metadata": {
    "application/vnd.databricks.v1+cell": {
     "cellMetadata": {
      "byteLimit": 2048000,
      "rowLimit": 10000
     },
     "inputWidgets": {},
     "nuid": "53c571a3-dac3-4f21-a5e4-57c891702874",
     "showTitle": false,
     "tableResultSettingsMap": {},
     "title": ""
    }
   },
   "source": [
    "## Deploy the agent"
   ]
  },
  {
   "cell_type": "code",
   "execution_count": 0,
   "metadata": {
    "application/vnd.databricks.v1+cell": {
     "cellMetadata": {
      "byteLimit": 2048000,
      "rowLimit": 10000
     },
     "inputWidgets": {},
     "nuid": "0f1ea3f0-9281-405f-8d34-9ded7c2bd346",
     "showTitle": false,
     "tableResultSettingsMap": {},
     "title": ""
    }
   },
   "outputs": [
    {
     "output_type": "stream",
     "name": "stdout",
     "output_type": "stream",
     "text": [
      "\n    Deployment of prasad_kona_isv.demo.langgraph-tool-calling-agent version 3 initiated.  This can take up to 15 minutes and the Review App & Query Endpoint will not work until this deployment finishes.\n\n    View status: https://e2-demo-field-eng.cloud.databricks.com/ml/endpoints/agents_prasad_kona_isv-demo-langgraph-tool-calling-agent\n    Review App: https://e2-demo-field-eng.cloud.databricks.com/ml/review-v2/2ab25ac0f88b4234949a9bdd0d198d06/chat\n    Monitor: https://e2-demo-field-eng.cloud.databricks.com/ml/experiments/913238801424870/evaluation-monitoring\n"
     ]
    },
    {
     "output_type": "execute_result",
     "data": {
      "text/plain": [
       "Deployment(model_name='prasad_kona_isv.demo.langgraph-tool-calling-agent', model_version='3', endpoint_name='agents_prasad_kona_isv-demo-langgraph-tool-calling-agent', served_entity_name='prasad_kona_isv-demo-langgraph-tool-calling-agent_3', query_endpoint='https://e2-demo-field-eng.cloud.databricks.com/serving-endpoints/agents_prasad_kona_isv-demo-langgraph-tool-calling-agent/served-models/prasad_kona_isv-demo-langgraph-tool-calling-agent_3/invocations', endpoint_url='https://e2-demo-field-eng.cloud.databricks.com/ml/endpoints/agents_prasad_kona_isv-demo-langgraph-tool-calling-agent', review_app_url='https://e2-demo-field-eng.cloud.databricks.com/ml/review-v2/2ab25ac0f88b4234949a9bdd0d198d06/chat')"
      ]
     },
     "execution_count": 21,
     "metadata": {},
     "output_type": "execute_result"
    }
   ],
   "source": [
    "from databricks import agents\n",
    "agents.deploy(\n",
    "                UC_MODEL_NAME, \n",
    "                uc_registered_model_info.version, \n",
    "                tags = {\"endpointSource\": \"docs\"},\n",
    "                scale_to_zero_enabled=True,\n",
    "                environment_vars={\n",
    "                    \"ARIZE_API_KEY\": \"{{secrets/prasad_kona/ARIZE_API_KEY}}\",\n",
    "                    \"ARIZE_SPACE_ID\": \"{{secrets/prasad_kona/ARIZE_SPACE_ID}}\",\n",
    "                }\n",
    "              )"
   ]
  },
  {
   "cell_type": "markdown",
   "metadata": {
    "application/vnd.databricks.v1+cell": {
     "cellMetadata": {
      "byteLimit": 2048000,
      "rowLimit": 10000
     },
     "inputWidgets": {},
     "nuid": "2f368007-8e1a-45e8-a275-eafc7f4b80b7",
     "showTitle": false,
     "tableResultSettingsMap": {},
     "title": ""
    }
   },
   "source": [
    "## Next steps\n",
    "\n",
    "After your agent is deployed, you can chat with it in AI playground to perform additional checks, share it with SMEs in your organization for feedback, or embed it in a production application. See Databricks documentation ([AWS](https://docs.databricks.com/en/generative-ai/deploy-agent.html) | [Azure](https://learn.microsoft.com/en-us/azure/databricks/generative-ai/deploy-agent))."
   ]
  }
 ],
 "metadata": {
  "application/vnd.databricks.v1+notebook": {
   "computePreferences": null,
   "dashboards": [],
   "environmentMetadata": null,
   "inputWidgetPreferences": null,
   "language": "python",
   "notebookMetadata": {
    "pythonIndentUnit": 4
   },
   "notebookName": "langgraph-tool-calling-agent-arizeAI-demo",
   "widgets": {}
  },
  "language_info": {
   "name": "python"
  }
 },
 "nbformat": 4,
 "nbformat_minor": 0
}